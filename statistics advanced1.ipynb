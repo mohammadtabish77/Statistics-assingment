{
 "cells": [
  {
   "cell_type": "markdown",
   "id": "47cb1d45-f4d3-4391-803a-1836cb800cb4",
   "metadata": {},
   "source": [
    "**Q1. What is the Probability density function?**\n",
    "\n",
    "The Probability Density Function (PDF) is a function that describes the likelihood of a continuous random variable taking on a particular value. For a continuous random variable \\( X \\), the PDF \\( f(x) \\) satisfies:\n",
    "\n",
    "- \\( f(x) \\geq 0 \\) for all \\( x \\),\n",
    "- \\( \\int_{-\\infty}^{\\infty} f(x) \\, dx = 1 \\),\n",
    "- The probability that \\( X \\) lies in any interval \\( [a, b] \\) is given by \\( \\int_{a}^{b} f(x) \\, dx \\).\n",
    "\n",
    "In essence, the PDF represents the relative likelihood of observing different outcomes of a continuous random variable."
   ]
  },
  {
   "cell_type": "markdown",
   "id": "ba2657f7-99fc-4eec-b305-2f65c354605c",
   "metadata": {},
   "source": [
    "**Q2. What are the types of Probability distribution?**\n",
    "\n",
    "There are several types of probability distributions, broadly categorized into:\n",
    "\n",
    "- **Discrete Distributions:** Probability distributions where the random variable can take on a countable number of distinct values. Examples include:\n",
    "  - Binomial distribution\n",
    "  - Poisson distribution\n",
    "  - Geometric distribution\n",
    "\n",
    "- **Continuous Distributions:** Probability distributions where the random variable can take on any value within a range. Examples include:\n",
    "  - Normal (Gaussian) distribution\n",
    "  - Exponential distribution\n",
    "  - Uniform distribution"
   ]
  },
  {
   "cell_type": "markdown",
   "id": "081df560-0f18-4428-b4b7-9225bbaa2ae1",
   "metadata": {},
   "source": [
    "**Q3. Write a Python function to calculate the probability density function of a normal distribution with given mean and standard deviation at a given point.**"
   ]
  },
  {
   "cell_type": "code",
   "execution_count": 3,
   "id": "56b679e3-2a99-4477-b342-1bdc93428637",
   "metadata": {},
   "outputs": [
    {
     "name": "stdout",
     "output_type": "stream",
     "text": [
      "PDF at x = 1.5: 0.1295\n"
     ]
    }
   ],
   "source": [
    "\n",
    "import math\n",
    "\n",
    "def normal_pdf(x, mean, std_dev):\n",
    "    \"\"\"Calculate the probability density function (PDF) of normal distribution.\"\"\"\n",
    "    variance = std_dev**2\n",
    "    exponent = -((x - mean)**2) / (2 * variance)\n",
    "    pdf = (1 / (math.sqrt(2 * math.pi * variance))) * math.exp(exponent)\n",
    "    return pdf\n",
    "\n",
    "# Example usage:\n",
    "mean = 0\n",
    "std_dev = 1\n",
    "x_value = 1.5\n",
    "pdf_value = normal_pdf(x_value, mean, std_dev)\n",
    "print(f\"PDF at x = {x_value}: {pdf_value:.4f}\")\n"
   ]
  },
  {
   "cell_type": "markdown",
   "id": "44af90a7-c1c5-422f-a9a4-63ec9829bb98",
   "metadata": {},
   "source": [
    "**Q4. What are the properties of Binomial distribution? Give two examples of events where binomial distribution can be applied.**\n",
    "\n",
    "Properties of the Binomial distribution:\n",
    "- It is discrete and represents the number of successes in a fixed number of independent Bernoulli trials.\n",
    "- Parameters: \\( n \\) (number of trials), \\( p \\) (probability of success on each trial).\n",
    "- Mean: \\( \\mu = np \\)\n",
    "- Variance: \\( \\sigma^2 = np(1-p) \\)\n",
    "\n",
    "Examples of events where binomial distribution can be applied:\n",
    "1. Flipping a coin multiple times and counting the number of heads.\n",
    "2. Testing the success rate of a new drug where each patient either responds positively or negatively."
   ]
  },
  {
   "cell_type": "markdown",
   "id": "a88fb8d3-01d7-4554-b113-728de5e29ff5",
   "metadata": {},
   "source": [
    "**Q5. Generate a random sample of size 1000 from a binomial distribution with probability of success 0.4 and plot a histogram of the results using matplotlib.**"
   ]
  },
  {
   "cell_type": "code",
   "execution_count": 4,
   "id": "2e218b25-7394-4096-986e-183495a21d0a",
   "metadata": {},
   "outputs": [
    {
     "data": {
      "image/png": "[encoded data removed]",
      "text/plain": [
       "<Figure size 640x480 with 1 Axes>"
      ]
     },
     "metadata": {},
     "output_type": "display_data"
    }
   ],
   "source": [
    "import numpy as np\n",
    "import matplotlib.pyplot as plt\n",
    "\n",
    "# Generate random sample from Binomial distribution\n",
    "n = 1000\n",
    "p = 0.4\n",
    "sample = np.random.binomial(n, p, size=n)\n",
    "\n",
    "# Plot histogram\n",
    "plt.hist(sample, bins=20, edgecolor='black')\n",
    "plt.title('Histogram of Binomial Distribution')\n",
    "plt.xlabel('Number of Successes')\n",
    "plt.ylabel('Frequency')\n",
    "plt.grid(True)\n",
    "plt.show()\n"
   ]
  },
  {
   "cell_type": "markdown",
   "id": "bc0fde9a-1499-4d19-b350-c79185497cee",
   "metadata": {},
   "source": [
    "**Q6. Write a Python function to calculate the cumulative distribution function of a Poisson distribution with given mean at a given point.**"
   ]
  },
  {
   "cell_type": "code",
   "execution_count": 5,
   "id": "08e0a97a-2f8d-413f-8497-4605b2d293a0",
   "metadata": {},
   "outputs": [
    {
     "name": "stdout",
     "output_type": "stream",
     "text": [
      "CDF at x = 5: 0.9161\n"
     ]
    }
   ],
   "source": [
    "import math\n",
    "\n",
    "def poisson_cdf(x, mean):\n",
    "    \"\"\"Calculate the cumulative distribution function (CDF) of Poisson distribution.\"\"\"\n",
    "    cdf = 0\n",
    "    for k in range(int(math.floor(x)) + 1):\n",
    "        cdf += math.exp(-mean) * (mean**k) / math.factorial(k)\n",
    "    return cdf\n",
    "\n",
    "# Example usage:\n",
    "mean = 3\n",
    "x_value = 5\n",
    "cdf_value = poisson_cdf(x_value, mean)\n",
    "print(f\"CDF at x = {x_value}: {cdf_value:.4f}\")\n"
   ]
  },
  {
   "cell_type": "markdown",
   "id": "9e5b364f-e44f-4f11-8c31-d6e2306b4b83",
   "metadata": {},
   "source": [
    "**Q7. How is Binomial distribution different from Poisson distribution?**\n",
    "\n",
    "- **Binomial distribution:** Used to model the number of successes (or failures) in a fixed number of independent trials, each with the same probability of success.\n",
    "- **Poisson distribution:** Used to model the number of events occurring in a fixed interval of time or space, assuming the events occur independently at a constant rate.\n",
    "\n",
    "Key differences:\n",
    "- Binomial distribution has a fixed number of trials \\( n \\), while Poisson distribution does not have a fixed number of trials.\n",
    "- Binomial distribution requires a fixed probability of success \\( p \\) per trial, while Poisson distribution uses a rate parameter \\( \\lambda \\) that represents the average number of events in the given interval."
   ]
  },
  {
   "cell_type": "markdown",
   "id": "0b9634de-5d04-4d35-83bf-f2a238022bef",
   "metadata": {},
   "source": [
    "**Q8. Generate a random sample of size 1000 from a Poisson distribution with mean 5 and calculate the sample mean and variance.**"
   ]
  },
  {
   "cell_type": "code",
   "execution_count": 6,
   "id": "e8041c72-8be7-4dd2-92b1-27bcf4a1878b",
   "metadata": {},
   "outputs": [
    {
     "name": "stdout",
     "output_type": "stream",
     "text": [
      "Sample Mean: 4.9180\n",
      "Sample Variance: 4.8273\n"
     ]
    }
   ],
   "source": [
    "import numpy as np\n",
    "\n",
    "# Generate random sample from Poisson distribution\n",
    "mean = 5\n",
    "sample = np.random.poisson(mean, size=1000)\n",
    "\n",
    "# Calculate sample mean and variance\n",
    "sample_mean = np.mean(sample)\n",
    "sample_variance = np.var(sample)\n",
    "\n",
    "print(f\"Sample Mean: {sample_mean:.4f}\")\n",
    "print(f\"Sample Variance: {sample_variance:.4f}\")\n"
   ]
  },
  {
   "cell_type": "markdown",
   "id": "f49ea23c-82c9-408b-9de3-3f01e527d494",
   "metadata": {},
   "source": [
    "**Q9. How are mean and variance related in Binomial distribution and Poisson distribution?**\n",
    "\n",
    "- **Binomial distribution:** Mean \\( \\mu = np \\), Variance \\( \\sigma^2 = np(1-p) \\).\n",
    "- **Poisson distribution:** Mean \\( \\mu = \\lambda \\), Variance \\( \\sigma^2 = \\lambda \\).\n",
    "\n",
    "Both distributions have the property that their variance is equal to their mean. This characteristic simplifies the description and analysis of these distributions."
   ]
  },
  {
   "cell_type": "markdown",
   "id": "19efc0be-5b80-4bad-ba7b-78f7b41cca4c",
   "metadata": {},
   "source": [
    "**Q10. In normal distribution with respect to mean position, where does the least frequent data appear?**\n",
    "\n",
    "In a normal distribution:\n",
    "- The least frequent data (fewest occurrences) appear farther away from the mean.\n",
    "- Specifically, the tails of the distribution (farther from the mean) contain data points that occur less frequently compared to data points closer to the mean."
   ]
  }
 ],
 "metadata": {
  "kernelspec": {
   "display_name": "Python 3 (ipykernel)",
   "language": "python",
   "name": "python3"
  },
  "language_info": {
   "codemirror_mode": {
    "name": "ipython",
    "version": 3
   },
   "file_extension": ".py",
   "mimetype": "text/x-python",
   "name": "python",
   "nbconvert_exporter": "python",
   "pygments_lexer": "ipython3",
   "version": "3.10.8"
  }
 },
 "nbformat": 4,
 "nbformat_minor": 5
}
