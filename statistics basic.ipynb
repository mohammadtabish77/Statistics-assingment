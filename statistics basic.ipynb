{
 "cells": [
  {
   "cell_type": "markdown",
   "id": "cccacee7-95ae-4b58-a08b-557b7eae430b",
   "metadata": {},
   "source": [
    "\n",
    "\n",
    "**Q1. What is Statistics?**\n",
    "\n",
    "Statistics is a branch of mathematics that deals with collecting, organizing, analyzing, interpreting, and presenting data. It involves methods for gathering data (through surveys, experiments, or observations), summarizing the data (using descriptive statistics), drawing conclusions from the data (using inferential statistics), and making informed decisions or predictions based on those conclusions.\n",
    "\n",
    "**Q2. Define the different types of statistics and give an example of when each type might be used.**\n",
    "\n",
    "There are two main types of statistics:\n",
    "\n",
    "- **Descriptive Statistics:** Descriptive statistics involves methods for summarizing and describing data. It includes measures such as mean, median, mode, standard deviation, and graphical representations like histograms, bar charts, and box plots. Descriptive statistics are used to present and interpret data in a meaningful way. For example, a company might use descriptive statistics to analyze sales data from different regions to understand which regions are performing the best.\n",
    "\n",
    "- **Inferential Statistics:** Inferential statistics involves making inferences or predictions about a population based on sample data. It includes techniques such as hypothesis testing, confidence intervals, regression analysis, and correlation analysis. Inferential statistics are used when we want to generalize findings from a sample to a larger population. For instance, a medical researcher might use inferential statistics to determine whether a new drug treatment is effective by comparing outcomes between a treatment group and a control group.\n",
    "\n",
    "**Q3. What are the different types of data and how do they differ from each other? Provide an example of each type of data.**\n",
    "\n",
    "There are broadly two types of data:\n",
    "\n",
    "- **Qualitative (Categorical) Data:** Qualitative data describes qualities or characteristics and cannot be measured numerically. It is often divided into nominal and ordinal data.\n",
    "  - **Nominal Data:** Nominal data consists of categories without any inherent order. Examples include gender (male, female) or types of cars (sedan, SUV, truck).\n",
    "  - **Ordinal Data:** Ordinal data has a natural order but the intervals between values may not be uniform. Examples include rating scales (e.g., 1 to 5 stars for a product review) or education levels (e.g., high school, bachelor's, master's).\n",
    "\n",
    "- **Quantitative (Numerical) Data:** Quantitative data consists of numerical measurements or counts that can be subjected to arithmetic operations. It is divided into discrete and continuous data.\n",
    "  - **Discrete Data:** Discrete data can only take specific values and usually involves counting. Examples include the number of students in a class (which can't be 7.5) or the number of cars in a parking lot.\n",
    "  - **Continuous Data:** Continuous data can take any value within a range and can be measured with great precision. Examples include height, weight, temperature, or time.\n",
    "\n"
   ]
  },
  {
   "cell_type": "markdown",
   "id": "188fc451-2131-4ed4-b12e-2cbe6b3e67a0",
   "metadata": {},
   "source": [
    "**Q4. Categorise the following datasets with respect to quantitative and qualitative data types:**\n",
    "*(i) Grading in exam: A+, A, B+, B, C+, C, D, E\n",
    "(ii) Colour of mangoes: yellow, green, orange, red\n",
    "(iii) Height data of a class: [178.9, 179, 179.5, 176, 177.2, 178.3, 175.8,...]\n",
    "(iv) Number of mangoes exported by a farm: [500, 600, 478, 672, ...]*"
   ]
  },
  {
   "cell_type": "markdown",
   "id": "5c12dc43-9dc7-42e7-a1ab-aa1815e4cc71",
   "metadata": {},
   "source": [
    "**ANS** - \n",
    "\n",
    "(i) **Grading in exam: A+, A, B+, B, C+, C, D, E**\n",
    "- This dataset represents qualitative data because it categorizes students into different grades based on qualitative assessments (performance).\n",
    "\n",
    "(ii) **Colour of mangoes: yellow, green, orange, red**\n",
    "- This dataset represents qualitative data because it categorizes mangoes based on their color, which is a descriptive characteristic.\n",
    "\n",
    "(iii) **Height data of a class: [178.9, 179, 179.5, 176, 177.2, 178.3, 175.8,...]**\n",
    "- This dataset represents quantitative data because it consists of numerical measurements (heights) that can be measured with precision. Specifically, this is continuous quantitative data since height can take any value within a range.\n",
    "\n",
    "(iv) **Number of mangoes exported by a farm: [500, 600, 478, 672, ...]**\n",
    "- This dataset represents quantitative data because it consists of numerical counts (number of mangoes) that are discrete values.\n",
    "\n",
    "To summarize:\n",
    "- (i) Qualitative data (categorical)\n",
    "- (ii) Qualitative data (categorical)\n",
    "- (iii) Quantitative data (continuous)\n",
    "- (iv) Quantitative data (discrete)\n",
    "\n",
    "Understanding the type of data is essential for choosing appropriate statistical analyses and visualizations. If you have any more questions or need further clarification, feel free to ask!"
   ]
  },
  {
   "cell_type": "code",
   "execution_count": null,
   "id": "eab56872-59c4-462b-9f27-255c4ec55102",
   "metadata": {},
   "outputs": [],
   "source": []
  }
 ],
 "metadata": {
  "kernelspec": {
   "display_name": "Python 3 (ipykernel)",
   "language": "python",
   "name": "python3"
  },
  "language_info": {
   "codemirror_mode": {
    "name": "ipython",
    "version": 3
   },
   "file_extension": ".py",
   "mimetype": "text/x-python",
   "name": "python",
   "nbconvert_exporter": "python",
   "pygments_lexer": "ipython3",
   "version": "3.10.8"
  }
 },
 "nbformat": 4,
 "nbformat_minor": 5
}
