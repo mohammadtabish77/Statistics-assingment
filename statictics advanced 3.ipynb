{
 "cells": [
  {
   "cell_type": "markdown",
   "id": "78b8e19c-4bdc-4bc9-81ea-81367b1b651f",
   "metadata": {},
   "source": [
    "**Q1: What is Estimation Statistics? Explain point estimate and interval estimate.**\n",
    "\n",
    "- **Estimation Statistics:** Estimation in statistics involves using sample data to infer the characteristics of a population. It provides methods to estimate unknown parameters (such as mean, variance, proportion) based on sample statistics.\n",
    "  \n",
    "- **Point Estimate:** A single value that best approximates an unknown population parameter. For example, the sample mean (\\( \\bar{x} \\)) is a point estimate of the population mean (\\( \\mu \\)).\n",
    "\n",
    "- **Interval Estimate:** An interval (range of values) calculated from sample data that is likely to contain the true population parameter. It provides a measure of uncertainty around the point estimate. For example, a confidence interval for the population mean."
   ]
  },
  {
   "cell_type": "markdown",
   "id": "05b45e4f-561a-4734-9f3a-f5bf5d0796ce",
   "metadata": {},
   "source": [
    "**Q2: Write a Python function to estimate the population mean using a sample mean and standard deviation.**"
   ]
  },
  {
   "cell_type": "code",
   "execution_count": 1,
   "id": "b3ad3674-d034-4ed6-9980-23103667dc0f",
   "metadata": {},
   "outputs": [
    {
     "name": "stdout",
     "output_type": "stream",
     "text": [
      "Population mean estimate with 95% confidence interval: (486.1407070887437, 513.8592929112564)\n"
     ]
    }
   ],
   "source": [
    "\n",
    "import numpy as np\n",
    "\n",
    "def estimate_population_mean(sample_mean, sample_std_dev, sample_size):\n",
    "    \"\"\"Estimate the population mean using sample mean and standard deviation.\"\"\"\n",
    "    # Calculate standard error of the mean\n",
    "    std_error = sample_std_dev / np.sqrt(sample_size)\n",
    "    \n",
    "    # Calculate margin of error for 95% confidence (assuming normal distribution)\n",
    "    margin_of_error = 1.96 * std_error\n",
    "    \n",
    "    # Calculate confidence interval\n",
    "    lower_bound = sample_mean - margin_of_error\n",
    "    upper_bound = sample_mean + margin_of_error\n",
    "    \n",
    "    return (lower_bound, upper_bound)\n",
    "\n",
    "# Example usage:\n",
    "sample_mean = 500\n",
    "sample_std_dev = 50\n",
    "sample_size = 50\n",
    "confidence_interval = estimate_population_mean(sample_mean, sample_std_dev, sample_size)\n",
    "print(f\"Population mean estimate with 95% confidence interval: {confidence_interval}\")\n"
   ]
  },
  {
   "cell_type": "markdown",
   "id": "ac3e25d9-5241-48a7-b631-effcd2fda0a3",
   "metadata": {},
   "source": [
    "**Q3: What is Hypothesis testing? Why is it used? State the importance of Hypothesis testing.**\n",
    "\n",
    "- **Hypothesis Testing:** A statistical method used to make inferences about a population based on sample data. It involves formulating a hypothesis about the population parameter, collecting data to test the hypothesis, and drawing conclusions based on the data.\n",
    "\n",
    "- **Importance:** Hypothesis testing allows us to determine whether observed differences or relationships in data are statistically significant or just due to chance. It provides a structured approach to validate or reject assumptions about the population based on sample evidence."
   ]
  },
  {
   "cell_type": "markdown",
   "id": "f635a27c-0b3e-431a-b1f3-67716f1ab648",
   "metadata": {},
   "source": [
    "**Q4: Create a hypothesis that states whether the average weight of male college students is greater than the average weight of female college students.**\n",
    "\n",
    "- **Hypothesis:** \\( H_0 \\): The average weight of male college students \\( (\\mu_{male}) \\) is equal to or less than the average weight of female college students \\( (\\mu_{female}) \\).\n",
    "  \\( H_1 \\): The average weight of male college students \\( (\\mu_{male}) \\) is greater than the average weight of female college students \\( (\\mu_{female}) \\)."
   ]
  },
  {
   "cell_type": "markdown",
   "id": "556134b5-0cb2-4ba0-9081-4cc2acf1931c",
   "metadata": {},
   "source": [
    "**Q5: Write a Python script to conduct a hypothesis test on the difference between two population means, given a sample from each population.**"
   ]
  },
  {
   "cell_type": "code",
   "execution_count": 2,
   "id": "228df2e5-0deb-49b8-9c64-3ce18c1afe73",
   "metadata": {},
   "outputs": [
    {
     "name": "stdout",
     "output_type": "stream",
     "text": [
      "P-value (0.0592) is greater than alpha (0.05): Fail to reject null hypothesis\n"
     ]
    }
   ],
   "source": [
    "\n",
    "import numpy as np\n",
    "from scipy import stats\n",
    "\n",
    "def two_sample_t_test(sample1, sample2, alpha):\n",
    "    \"\"\"Perform two-sample t-test for independent samples.\"\"\"\n",
    "    stat, p_value = stats.ttest_ind(sample1, sample2)\n",
    "    \n",
    "    if p_value < alpha:\n",
    "        print(f\"P-value ({p_value:.4f}) is less than alpha ({alpha}): Reject null hypothesis\")\n",
    "    else:\n",
    "        print(f\"P-value ({p_value:.4f}) is greater than alpha ({alpha}): Fail to reject null hypothesis\")\n",
    "\n",
    "# Example usage:\n",
    "sample1 = np.random.normal(50, 10, 30)  # Sample 1 with mean 50, std dev 10, size 30\n",
    "sample2 = np.random.normal(55, 8, 40)   # Sample 2 with mean 55, std dev 8, size 40\n",
    "alpha = 0.05  # Significance level\n",
    "\n",
    "two_sample_t_test(sample1, sample2, alpha)\n"
   ]
  },
  {
   "cell_type": "markdown",
   "id": "1dc76f6e-2b1d-4f6c-aa98-fd73ab43472c",
   "metadata": {},
   "source": [
    "**Q6: What is a null and alternative hypothesis? Give some examples.**\n",
    "\n",
    "- **Null Hypothesis (H0):** A statement of no effect or no difference, often denoted as \\( H_0 \\). It represents the status quo or a hypothesis to be tested.\n",
    "\n",
    "  Example: \\( H_0 \\): The mean height of students is equal to 65 inches.\n",
    "\n",
    "- **Alternative Hypothesis (H1 or Ha):** A statement that contradicts the null hypothesis and suggests there is an effect, difference, or relationship.\n",
    "\n",
    "  Example: \\( H_1 \\): The mean height of students is not equal to 65 inches."
   ]
  },
  {
   "cell_type": "markdown",
   "id": "39be2bb7-a49a-4cd7-a059-ef72ef7b539c",
   "metadata": {},
   "source": [
    "**Q7: Write down the steps involved in hypothesis testing.**\n",
    "\n",
    "1. **Formulate Hypotheses:** State the null and alternative hypotheses.\n",
    "2. **Select Significance Level (α):** Determine the acceptable level of Type I error (typically 0.05 or 0.01).\n",
    "3. **Collect Data:** Gather sample data relevant to the hypothesis.\n",
    "4. **Calculate Test Statistic:** Compute a statistic (like t-statistic or z-score) that measures the degree of agreement between the data and the null hypothesis.\n",
    "5. **Compute P-value:** Determine the probability of observing the test statistic (or more extreme values) under the null hypothesis.\n",
    "6. **Make Decision:** Compare the p-value to α:\n",
    "   - If p-value ≤ α, reject the null hypothesis.\n",
    "   - If p-value > α, fail to reject the null hypothesis.\n",
    "7. **Draw Conclusion:** Interpret the results in the context of the problem."
   ]
  },
  {
   "cell_type": "markdown",
   "id": "73e7d7bc-e06f-4191-ba60-ece2411fe48a",
   "metadata": {},
   "source": [
    "**Q8: Define p-value and explain its significance in hypothesis testing.**\n",
    "\n",
    "- **P-value:** The probability of obtaining results as extreme as the observed data (or more extreme) under the assumption that the null hypothesis is true. It quantifies the strength of evidence against the null hypothesis.\n",
    "\n",
    "- **Significance:** \n",
    "  - A small p-value (typically ≤ α) suggests strong evidence against the null hypothesis, leading to its rejection.\n",
    "  - A large p-value (typically > α) indicates weak evidence against the null hypothesis, leading to failure to reject it."
   ]
  },
  {
   "cell_type": "markdown",
   "id": "22b89434-43f7-4976-858a-a8299c37d806",
   "metadata": {},
   "source": [
    "**Q9: Generate a Student's t-distribution plot using Python's matplotlib library, with the degrees of freedom parameter set to 10.**"
   ]
  },
  {
   "cell_type": "code",
   "execution_count": 3,
   "id": "50481999-d5eb-4eb5-8f64-db73beb13dd9",
   "metadata": {},
   "outputs": [
    {
     "data": {
      "image/png": "[encoded data removed]",
      "text/plain": [
       "<Figure size 640x480 with 1 Axes>"
      ]
     },
     "metadata": {},
     "output_type": "display_data"
    }
   ],
   "source": [
    "\n",
    "import numpy as np\n",
    "import matplotlib.pyplot as plt\n",
    "from scipy.stats import t\n",
    "\n",
    "df = 10  # Degrees of freedom\n",
    "\n",
    "x = np.linspace(t.ppf(0.001, df), t.ppf(0.999, df), 100)\n",
    "plt.plot(x, t.pdf(x, df), label=f\"t-distribution (df={df})\")\n",
    "plt.title(f\"Student's t-distribution (df={df})\")\n",
    "plt.xlabel('x')\n",
    "plt.ylabel('Probability Density')\n",
    "plt.legend()\n",
    "plt.grid(True)\n",
    "plt.show()\n"
   ]
  },
  {
   "cell_type": "markdown",
   "id": "f3a15c58-8bf5-4312-baf5-92ad1498b596",
   "metadata": {},
   "source": [
    "**Q10: Write a Python program to calculate the two-sample t-test for independent samples, given two random samples of equal size and a null hypothesis that the population means are equal.**"
   ]
  },
  {
   "cell_type": "code",
   "execution_count": 4,
   "id": "0178615f-f848-4ffa-8e2f-3b89205122be",
   "metadata": {},
   "outputs": [
    {
     "name": "stdout",
     "output_type": "stream",
     "text": [
      "P-value (0.6226) is greater than alpha (0.05): Fail to reject null hypothesis\n"
     ]
    }
   ],
   "source": [
    "import numpy as np\n",
    "from scipy import stats\n",
    "\n",
    "def two_sample_t_test(sample1, sample2, alpha):\n",
    "    \"\"\"Perform two-sample t-test for independent samples.\"\"\"\n",
    "    stat, p_value = stats.ttest_ind(sample1, sample2)\n",
    "    \n",
    "    if p_value < alpha:\n",
    "        print(f\"P-value ({p_value:.4f}) is less than alpha ({alpha}): Reject null hypothesis\")\n",
    "    else:\n",
    "        print(f\"P-value ({p_value:.4f}) is greater than alpha ({alpha}): Fail to reject null hypothesis\")\n",
    "\n",
    "# Example usage:\n",
    "sample1 = np.random.normal(50, 10, 30)  # Sample 1 with mean 50, std dev 10, size 30\n",
    "sample2 = np.random.normal(50, 8, 30)   # Sample 2 with mean 50, std dev 8, size 30\n",
    "alpha = 0.05  # Significance level\n",
    "\n",
    "two_sample_t_test(sample1, sample2, alpha)"
   ]
  },
  {
   "cell_type": "markdown",
   "id": "361148b6-a78f-4c49-87b4-09a36b8fa833",
   "metadata": {},
   "source": [
    "**Q11: What is Student’s t distribution? When to use the t-Distribution.**\n",
    "\n",
    "- **Student’s t distribution:** It is a probability distribution used to estimate population parameters when the sample size is small (n < 30) or when the population standard deviation is unknown. It is similar to the normal distribution but has heavier tails.\n",
    "\n",
    "- **Use of t-Distribution:** \n",
    "  - When the sample size is small and the population standard deviation is unknown.\n",
    "  - For inference about the population mean (e.g., confidence intervals or hypothesis testing) when working with small samples."
   ]
  },
  {
   "cell_type": "markdown",
   "id": "147349e0-b09a-4d76-8c97-f8c4f6f37faa",
   "metadata": {},
   "source": [
    "**Q12: What is t-statistic? State the formula for t-statistic.**\n",
    "\n",
    "- **t-statistic:** It is a measure used in hypothesis testing to determine if there is a significant difference between the means of two groups.\n",
    "\n",
    "- **Formula for t-statistic:** For comparing two sample means (independent samples) with equal or unequal variances:\n",
    "  \n",
    "  \\( t = \\frac{\\bar{X}_1 - \\bar{X}_2}{\\sqrt{\\frac{s_1^2}{n_1} + \\frac{s_2^2}{n_2}}} \\),\n",
    "\n",
    "  where \\( \\bar{X}_1, \\bar{X}_2 \\) are sample means, \\( s_1, s_2 \\) are sample standard deviations, and \\( n_1, n_2 \\) are sample sizes."
   ]
  },
  {
   "cell_type": "markdown",
   "id": "96c935ea-3a97-4949-9bb0-31d84299afbb",
   "metadata": {},
   "source": [
    "**Q13: A coffee shop owner wants to estimate the average daily revenue for their shop. They take a random sample of 50 days and find the sample mean revenue to be $500 with a standard deviation of $50. Estimate the population mean revenue with a 95% confidence interval.**"
   ]
  },
  {
   "cell_type": "code",
   "execution_count": 6,
   "id": "1712cf2d-553c-456a-979f-1e7030833f03",
   "metadata": {},
   "outputs": [
    {
     "name": "stdout",
     "output_type": "stream",
     "text": [
      "Population mean estimate with 95% confidence interval: (485.79, 514.21)\n"
     ]
    }
   ],
   "source": [
    "import numpy as np\n",
    "\n",
    "\n",
    "from scipy.stats import t\n",
    "\n",
    "sample_mean = 500\n",
    "sample_std_dev = 50\n",
    "sample_size = 50\n",
    "confidence_level = 0.95\n",
    "\n",
    "# Calculate the margin of error\n",
    "margin_of_error = t.ppf((1 + confidence_level) / 2, sample_size - 1) * (sample_std_dev / np.sqrt(sample_size))\n",
    "\n",
    "# Calculate confidence interval\n",
    "lower_bound = sample_mean - margin_of_error\n",
    "upper_bound = sample_mean + margin_of_error\n",
    "\n",
    "print(f\"Population mean estimate with 95% confidence interval: ({lower_bound:.2f}, {upper_bound:.2f})\")\n"
   ]
  },
  {
   "cell_type": "markdown",
   "id": "fa64ac6e-39ad-42f7-b07b-939ade179907",
   "metadata": {},
   "source": [
    "**Q14: A researcher hypothesizes that a new drug will decrease blood pressure by 10 mmHg. They conduct a clinical trial with 100 patients and find that the sample mean decrease in blood pressure is 8 mmHg with a standard deviation of 3 mmHg. Test the hypothesis with a significance level of 0.05.**"
   ]
  },
  {
   "cell_type": "code",
   "execution_count": 7,
   "id": "8b6399a2-9fd0-40da-a1bb-504de7a54901",
   "metadata": {},
   "outputs": [
    {
     "name": "stdout",
     "output_type": "stream",
     "text": [
      "P-value (0.0000) is less than alpha (0.05): Reject null hypothesis\n"
     ]
    }
   ],
   "source": [
    "import numpy as np\n",
    "from scipy import stats\n",
    "\n",
    "# Given data\n",
    "sample_mean = 8\n",
    "population_mean = 10\n",
    "sample_std_dev = 3\n",
    "sample_size = 100\n",
    "alpha = 0.05\n",
    "\n",
    "# Calculate standard error\n",
    "std_error = sample_std_dev / np.sqrt(sample_size)\n",
    "\n",
    "# Calculate t-statistic\n",
    "t_statistic = (sample_mean - population_mean) / std_error\n",
    "\n",
    "# Calculate p-value\n",
    "p_value = stats.t.sf(np.abs(t_statistic), sample_size - 1) * 2\n",
    "\n",
    "# Compare p-value with alpha\n",
    "if p_value < alpha:\n",
    "    print(f\"P-value ({p_value:.4f}) is less than alpha ({alpha}): Reject null hypothesis\")\n",
    "else:\n",
    "    print(f\"P-value ({p_value:.4f}) is greater than alpha ({alpha}): Fail to reject null hypothesis\")\n"
   ]
  },
  {
   "cell_type": "markdown",
   "id": "b4ec89d3-37c9-4061-af9d-4c0304d2c7e3",
   "metadata": {},
   "source": [
    "**Q15: An electronics company produces a certain type of product with a mean weight of 5 pounds and a standard deviation of 0.5 pounds. A random sample of 25 products is taken, and the sample mean weight is found to be 4.8 pounds. Test the hypothesis that the true mean weight of the products is less than 5 pounds with a significance level of 0.01.**"
   ]
  },
  {
   "cell_type": "code",
   "execution_count": 8,
   "id": "18273370-f0f3-4734-aa97-d9cc769747ab",
   "metadata": {},
   "outputs": [
    {
     "name": "stdout",
     "output_type": "stream",
     "text": [
      "P-value (0.0285) is greater than alpha (0.01): Fail to reject null hypothesis\n"
     ]
    }
   ],
   "source": [
    "import numpy as np\n",
    "from scipy import stats\n",
    "\n",
    "# Given data\n",
    "population_mean = 5\n",
    "sample_mean = 4.8\n",
    "sample_std_dev = 0.5\n",
    "sample_size = 25\n",
    "alpha = 0.01\n",
    "\n",
    "# Calculate standard error\n",
    "std_error = sample_std_dev / np.sqrt(sample_size)\n",
    "\n",
    "# Calculate t-statistic\n",
    "t_statistic = (sample_mean - population_mean) / std_error\n",
    "\n",
    "# Calculate p-value\n",
    "p_value = stats.t.cdf(t_statistic, sample_size - 1)\n",
    "\n",
    "# Compare p-value with alpha\n",
    "if p_value < alpha:\n",
    "    print(f\"P-value ({p_value:.4f}) is less than alpha ({alpha}): Reject null hypothesis\")\n",
    "else:\n",
    "    print(f\"P-value ({p_value:.4f}) is greater than alpha ({alpha}): Fail to reject null hypothesis\")\n"
   ]
  },
  {
   "cell_type": "markdown",
   "id": "f544c6cd-c074-47d4-ac95-b9b5793e8ec5",
   "metadata": {},
   "source": [
    "**Q16: Two groups of students are given different study materials to prepare for a test. The first group (n1 = 30) has a mean score of 80 with a standard deviation of 10, and the second group (n2 = 40) has a mean score of 75 with a standard deviation of 8. Test the hypothesis that the population means for the two groups are equal with a significance level of 0.01.**"
   ]
  },
  {
   "cell_type": "code",
   "execution_count": 9,
   "id": "891fd898-67eb-4492-b7b6-e762a6fa6099",
   "metadata": {},
   "outputs": [
    {
     "name": "stdout",
     "output_type": "stream",
     "text": [
      "P-value (0.0231) is greater than alpha (0.01): Fail to reject null hypothesis\n"
     ]
    }
   ],
   "source": [
    "import numpy as np\n",
    "from scipy import stats\n",
    "\n",
    "# Given data\n",
    "mean1 = 80\n",
    "std_dev1 = 10\n",
    "n1 = 30\n",
    "mean2 = 75\n",
    "std_dev2 = 8\n",
    "n2 = 40\n",
    "alpha = 0.01\n",
    "\n",
    "# Calculate pooled standard deviation (assuming equal variances)\n",
    "pooled_std_dev = np.sqrt(((n1 - 1) * std_dev1**2 + (n2 - 1) * std_dev2**2) / (n1 + n2 - 2))\n",
    "\n",
    "# Calculate t-statistic\n",
    "t_statistic = (mean1 - mean2) / (pooled_std_dev * np.sqrt(1/n1 + 1/n2))\n",
    "\n",
    "# Calculate p-value (two-tailed)\n",
    "p_value = stats.t.sf(np.abs(t_statistic), n1 + n2 - 2) * 2\n",
    "\n",
    "# Compare p-value with alpha\n",
    "if p_value < alpha:\n",
    "    print(f\"P-value ({p_value:.4f}) is less than alpha ({alpha}): Reject null hypothesis\")\n",
    "else:\n",
    "    print(f\"P-value ({p_value:.4f}) is greater than alpha ({alpha}): Fail to reject null hypothesis\")\n"
   ]
  },
  {
   "cell_type": "markdown",
   "id": "98683bb9-65ef-437b-89f0-32addcbbcf13",
   "metadata": {},
   "source": [
    "**Q17: A marketing company wants to estimate the average number of ads watched by viewers during a TV program. They take a random sample of 50 viewers and find that the sample mean is 4 with a standard deviation of 1.5. Estimate the population mean with a 99% confidence interval.**"
   ]
  },
  {
   "cell_type": "code",
   "execution_count": 12,
   "id": "fae8b156-2ac6-4422-a391-ec96602c03e6",
   "metadata": {},
   "outputs": [
    {
     "name": "stdout",
     "output_type": "stream",
     "text": [
      "Population mean estimate with 99% confidence interval: (3.43, 4.57)\n"
     ]
    }
   ],
   "source": [
    "import numpy as np\n",
    "from scipy.stats import t\n",
    "\n",
    "# Given data\n",
    "sample_mean = 4\n",
    "sample_std_dev = 1.5\n",
    "sample_size = 50\n",
    "confidence_level = 0.99\n",
    "\n",
    "# Calculate the margin of error\n",
    "margin_of_error = t.ppf((1 + confidence_level) / 2, sample_size - 1) * (sample_std_dev / np.sqrt(sample_size))\n",
    "\n",
    "# Calculate confidence interval\n",
    "lower_bound = sample_mean - margin_of_error\n",
    "upper_bound = sample_mean + margin_of_error\n",
    "\n",
    "print(f\"Population mean estimate with 99% confidence interval: ({lower_bound:.2f}, {upper_bound:.2f})\")\n",
    "\n",
    "\n"
   ]
  },
  {
   "cell_type": "code",
   "execution_count": null,
   "id": "0c42e687-e2c4-450c-8610-debc904d6871",
   "metadata": {},
   "outputs": [],
   "source": []
  }
 ],
 "metadata": {
  "kernelspec": {
   "display_name": "Python 3 (ipykernel)",
   "language": "python",
   "name": "python3"
  },
  "language_info": {
   "codemirror_mode": {
    "name": "ipython",
    "version": 3
   },
   "file_extension": ".py",
   "mimetype": "text/x-python",
   "name": "python",
   "nbconvert_exporter": "python",
   "pygments_lexer": "ipython3",
   "version": "3.10.8"
  }
 },
 "nbformat": 4,
 "nbformat_minor": 5
}
