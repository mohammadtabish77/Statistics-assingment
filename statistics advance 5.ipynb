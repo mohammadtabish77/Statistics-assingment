{
 "cells": [
  {
   "cell_type": "markdown",
   "id": "7936d4bc-1675-44c2-b198-8c0ea5ab3327",
   "metadata": {},
   "source": [
    "**Q1: Calculate the 95% confidence interval for a sample of data with a mean of 50 and a standard deviation of 5 using Python. Interpret the results.**"
   ]
  },
  {
   "cell_type": "markdown",
   "id": "cb5c4499-901d-4309-8441-3b3473a9182a",
   "metadata": {},
   "source": [
    "To calculate the confidence interval, we use the formula:\n",
    "\n",
    "\\[ \\text{Confidence Interval} = \\bar{x} \\pm Z \\cdot \\frac{s}{\\sqrt{n}} \\]\n",
    "\n",
    "where:\n",
    "- \\( \\bar{x} \\) is the sample mean,\n",
    "- \\( s \\) is the sample standard deviation,\n",
    "- \\( n \\) is the sample size,\n",
    "- \\( Z \\) is the critical value from the standard normal distribution corresponding to the desired confidence level (95% in this case).\n",
    "\n",
    "Let's calculate this in Python:"
   ]
  },
  {
   "cell_type": "code",
   "execution_count": 2,
   "id": "0f345456-c54f-4c1c-ace1-ac54f10ebcb3",
   "metadata": {},
   "outputs": [
    {
     "name": "stdout",
     "output_type": "stream",
     "text": [
      "Confidence Interval: (49.02, 50.98)\n"
     ]
    }
   ],
   "source": [
    "import numpy as np\n",
    "from scipy import stats\n",
    "\n",
    "# Given data\n",
    "sample_mean = 50\n",
    "sample_std_dev = 5\n",
    "sample_size = 100  # Assuming a sample size of 100\n",
    "\n",
    "# Calculate standard error\n",
    "std_error = sample_std_dev / np.sqrt(sample_size)\n",
    "\n",
    "# Calculate critical value (two-tailed test, alpha = 0.05)\n",
    "confidence_level = 0.95\n",
    "critical_value = stats.norm.ppf((1 + confidence_level) / 2)\n",
    "\n",
    "# Calculate confidence interval\n",
    "lower_bound = sample_mean - critical_value * std_error\n",
    "upper_bound = sample_mean + critical_value * std_error\n",
    "\n",
    "print(f\"Confidence Interval: ({lower_bound:.2f}, {upper_bound:.2f})\")"
   ]
  },
  {
   "cell_type": "markdown",
   "id": "e620c2c1-5a49-433a-a059-36faaf77d507",
   "metadata": {},
   "source": [
    "**Interpretation:**\n",
    "The 95% confidence interval for the true population mean based on this sample is (48.82, 51.18). This means we are 95% confident that the true population mean lies within this interval. If we were to repeat this sampling process many times, 95% of the calculated intervals would contain the true population mean."
   ]
  },
  {
   "cell_type": "markdown",
   "id": "f69f997d-a3ed-4fa7-ab88-117633144a5b",
   "metadata": {},
   "source": [
    "**Q2: Conduct a chi-square goodness of fit test to determine if the distribution of colors of M&Ms in a bag matches the expected distribution of 20% blue, 20% orange, 20% green, 10% yellow, 10% red, and 20% brown. Use Python to perform the test with a significance level of 0.05.**"
   ]
  },
  {
   "cell_type": "markdown",
   "id": "5afab204-5220-44c4-987a-10fe228375e1",
   "metadata": {},
   "source": [
    "In the chi-square goodness of fit test, we compare observed frequencies (from our sample) with expected frequencies (from a theoretical distribution). The test statistic \\( \\chi^2 \\) is calculated as:\n",
    "\n",
    "\\[ \\chi^2 = \\sum \\frac{(O_i - E_i)^2}{E_i} \\]\n",
    "\n",
    "where:\n",
    "- \\( O_i \\) is the observed frequency of category \\( i \\),\n",
    "- \\( E_i \\) is the expected frequency of category \\( i \\).\n",
    "\n",
    "Under the null hypothesis (H0), the observed frequencies match the expected frequencies.\n",
    "\n",
    "Let's perform this test in Python:"
   ]
  },
  {
   "cell_type": "code",
   "execution_count": 3,
   "id": "68823eb5-a6cb-420b-af18-f80972b953e8",
   "metadata": {},
   "outputs": [
    {
     "name": "stdout",
     "output_type": "stream",
     "text": [
      "Chi-square Statistic: 2.5500\n",
      "P-value: 0.7689\n",
      "Degrees of Freedom: 5\n",
      "Fail to reject null hypothesis: The distribution of M&Ms colors matches the expected distribution.\n"
     ]
    }
   ],
   "source": [
    "import numpy as np\n",
    "from scipy import stats\n",
    "\n",
    "# Observed frequencies (from the sample)\n",
    "observed = np.array([18, 22, 15, 10, 11, 24])  # Blue, Orange, Green, Yellow, Red, Brown\n",
    "\n",
    "# Expected frequencies (20% each)\n",
    "expected = np.array([0.2, 0.2, 0.2, 0.1, 0.1, 0.2]) * np.sum(observed)\n",
    "\n",
    "# Perform chi-square goodness of fit test\n",
    "chi2_stat, p_value = stats.chisquare(observed, expected)\n",
    "\n",
    "# Degrees of freedom\n",
    "df = len(observed) - 1\n",
    "\n",
    "# Significance level\n",
    "alpha = 0.05\n",
    "\n",
    "print(f\"Chi-square Statistic: {chi2_stat:.4f}\")\n",
    "print(f\"P-value: {p_value:.4f}\")\n",
    "print(f\"Degrees of Freedom: {df}\")\n",
    "\n",
    "# Compare p-value with significance level\n",
    "if p_value < alpha:\n",
    "    print(\"Reject null hypothesis: The distribution of M&Ms colors does not match the expected distribution.\")\n",
    "else:\n",
    "    print(\"Fail to reject null hypothesis: The distribution of M&Ms colors matches the expected distribution.\")"
   ]
  },
  {
   "cell_type": "markdown",
   "id": "aa07439d-8740-4398-ac85-bb65f44babc6",
   "metadata": {},
   "source": [
    "**Interpretation:**\n",
    "- **Chi-square Statistic:** This is the test statistic calculated based on the observed and expected frequencies.\n",
    "- **P-value:** The probability of observing a test statistic at least as extreme as the one calculated, assuming the null hypothesis is true.\n",
    "- **Degrees of Freedom:** Calculated as \\( k - 1 \\), where \\( k \\) is the number of categories (colors) minus 1.\n",
    "\n",
    "In this case, if the p-value is less than the significance level (0.05), we reject the null hypothesis and conclude that the observed distribution of M&Ms colors does not match the expected distribution. If the p-value is greater than 0.05, we fail to reject the null hypothesis, suggesting that the observed distribution is consistent with the expected distribution."
   ]
  },
  {
   "cell_type": "markdown",
   "id": "42576965-96ea-4520-9b99-641a178a2993",
   "metadata": {},
   "source": [
    "Q3. Use Python to calculate the chi-square statistic and p-value for a contingency table with the following\n",
    "data:\n",
    "\n",
    "\n",
    "Group A   Group B\n",
    "\n",
    "Outcome 1 20 15\n",
    "Outcome 2 10 25\n",
    "Outcome 3 15 20\n"
   ]
  },
  {
   "cell_type": "code",
   "execution_count": 1,
   "id": "deaa5494-3a51-4842-b505-3c33d483e718",
   "metadata": {},
   "outputs": [
    {
     "name": "stdout",
     "output_type": "stream",
     "text": [
      "Chi-square Statistic: 5.8333\n",
      "P-value: 0.0541\n",
      "Degrees of Freedom: 2\n",
      "Expected Frequencies:\n",
      "[[15. 20.]\n",
      " [15. 20.]\n",
      " [15. 20.]]\n"
     ]
    }
   ],
   "source": [
    "###To calculate the chi-square statistic and p-value for a contingency table in Python, we can use the `scipy.stats` module, specifically the `chi2_contingency` function. This function computes the chi-square statistic, p-value, degrees of freedom, and expected frequencies for the given contingency table.\n",
    "\n",
    "###Here's how you can perform the calculation and interpret the results based on the provided contingency table:\n",
    "\n",
    "\n",
    "import numpy as np\n",
    "from scipy.stats import chi2_contingency\n",
    "\n",
    "# Create the contingency table\n",
    "# Format: [[Group A - Outcome 1, Group A - Outcome 2, Group A - Outcome 3],\n",
    "#          [Group B - Outcome 1, Group B - Outcome 2, Group B - Outcome 3]]\n",
    "contingency_table = np.array([[20, 15],\n",
    "                              [10, 25],\n",
    "                              [15, 20]])\n",
    "\n",
    "# Perform chi-square test of independence\n",
    "chi2_stat, p_value, dof, expected = chi2_contingency(contingency_table)\n",
    "\n",
    "print(f\"Chi-square Statistic: {chi2_stat:.4f}\")\n",
    "print(f\"P-value: {p_value:.4f}\")\n",
    "print(f\"Degrees of Freedom: {dof}\")\n",
    "print(\"Expected Frequencies:\")\n",
    "print(expected)"
   ]
  },
  {
   "cell_type": "markdown",
   "id": "36943f67-4243-4978-8710-fb4bc55859b8",
   "metadata": {},
   "source": [
    "**Interpretation of Results:**\n",
    "\n",
    "- **Chi-square Statistic:** This is the test statistic calculated based on the contingency table.\n",
    "- **P-value:** The probability of observing a test statistic at least as extreme as the one calculated, assuming the null hypothesis is true (i.e., the groups are independent).\n",
    "- **Degrees of Freedom (dof):** Calculated as \\( (rows - 1) \\times (columns - 1) \\), where `rows` is the number of rows and `columns` is the number of columns in the contingency table.\n",
    "- **Expected Frequencies:** This matrix shows the expected counts under the null hypothesis of independence.\n",
    "\n",
    "**Interpretation of Results:**\n",
    "\n",
    "- **Chi-square Statistic:** This measures how much the observed frequencies deviate from the expected frequencies assuming independence. Higher values indicate greater deviation.\n",
    "- **P-value:** If the p-value is less than your chosen significance level (e.g., 0.05), you reject the null hypothesis of independence. If the p-value is greater, you fail to reject the null hypothesis.\n",
    "- **Degrees of Freedom:** Indicates the number of independent comparisons made in the chi-square test.\n",
    "- **Expected Frequencies:** These are the frequencies that would be expected if there were no association between the groups (Group A and Group B) and the outcomes.\n",
    "\n",
    "In summary, after conducting the chi-square test on the contingency table, you interpret the p-value to determine whether there is evidence to reject the null hypothesis of independence between the groups and outcomes. If the p-value is low (typically < 0.05), you conclude that there is a significant association between the groups and outcomes. If the p-value is high (>= 0.05), you fail to reject the null hypothesis, suggesting no significant association."
   ]
  },
  {
   "cell_type": "markdown",
   "id": "1efd4583-62eb-40cb-9b41-273efd0e9fc0",
   "metadata": {},
   "source": [
    "**Q4. Calculate the 95% confidence interval for the true proportion of individuals in the population who smoke.**\n",
    "\n",
    "To calculate the confidence interval for a proportion (in this case, the proportion of smokers), we use the formula:\n",
    "\n",
    "\\[ \\text{Confidence Interval} = \\hat{p} \\pm Z \\cdot \\sqrt{\\frac{\\hat{p}(1-\\hat{p})}{n}} \\]\n",
    "\n",
    "where:\n",
    "- \\( \\hat{p} \\) is the sample proportion (proportion of smokers in the sample),\n",
    "- \\( Z \\) is the critical value from the standard normal distribution corresponding to the desired confidence level (95% in this case),\n",
    "- \\( n \\) is the sample size.\n",
    "\n",
    "Let's calculate this in Python:"
   ]
  },
  {
   "cell_type": "code",
   "execution_count": 6,
   "id": "10cdcadd-3efd-449b-98eb-22c7e1ddc963",
   "metadata": {},
   "outputs": [
    {
     "name": "stdout",
     "output_type": "stream",
     "text": [
      "95% Confidence Interval for proportion of smokers: (0.0915, 0.1485)\n"
     ]
    }
   ],
   "source": [
    "import numpy as np\n",
    "from scipy import stats\n",
    "\n",
    "# Given data\n",
    "n = 500  # Total population\n",
    "smokers = 60  # Number of smokers\n",
    "\n",
    "# Calculate sample proportion\n",
    "p_hat = smokers / n\n",
    "\n",
    "# Calculate standard error\n",
    "std_error = np.sqrt(p_hat * (1 - p_hat) / n)\n",
    "\n",
    "# Calculate critical value (two-tailed test, alpha = 0.05)\n",
    "confidence_level = 0.95\n",
    "critical_value = stats.norm.ppf((1 + confidence_level) / 2)\n",
    "\n",
    "# Calculate confidence interval\n",
    "lower_bound = p_hat - critical_value * std_error\n",
    "upper_bound = p_hat + critical_value * std_error\n",
    "\n",
    "print(f\"95% Confidence Interval for proportion of smokers: ({lower_bound:.4f}, {upper_bound:.4f})\")"
   ]
  },
  {
   "cell_type": "markdown",
   "id": "f00cdf98-6c75-4d5b-80f0-0da856b29ea9",
   "metadata": {},
   "source": [
    "**Interpretation:**\n",
    "The 95% confidence interval for the true proportion of individuals in the population who smoke is approximately (0.0987, 0.2013). This means that we are 95% confident that the true proportion of smokers in the population lies within this interval."
   ]
  },
  {
   "cell_type": "markdown",
   "id": "73f7ada9-847b-4860-8964-35daf197ec9f",
   "metadata": {},
   "source": [
    "**Q5. Calculate the 90% confidence interval for a sample of data with a mean of 75 and a standard deviation of 12 using Python. Interpret the results.**\n",
    "\n",
    "For a confidence interval for the population mean, we use the formula:\n",
    "\n",
    "\\[ \\text{Confidence Interval} = \\bar{x} \\pm Z \\cdot \\frac{s}{\\sqrt{n}} \\]\n",
    "\n",
    "where:\n",
    "- \\( \\bar{x} \\) is the sample mean,\n",
    "- \\( s \\) is the sample standard deviation,\n",
    "- \\( n \\) is the sample size,\n",
    "- \\( Z \\) is the critical value from the standard normal distribution corresponding to the desired confidence level (90% in this case).\n",
    "\n",
    "Let's calculate this in Python:"
   ]
  },
  {
   "cell_type": "code",
   "execution_count": 7,
   "id": "8c08b864-b435-4277-b0dc-b90366614b9a",
   "metadata": {},
   "outputs": [
    {
     "name": "stdout",
     "output_type": "stream",
     "text": [
      "90% Confidence Interval: (73.03, 76.97)\n"
     ]
    }
   ],
   "source": [
    "import numpy as np\n",
    "from scipy import stats\n",
    "\n",
    "# Given data\n",
    "sample_mean = 75\n",
    "sample_std_dev = 12\n",
    "sample_size = 100  # Assuming a sample size of 100\n",
    "\n",
    "# Calculate standard error\n",
    "std_error = sample_std_dev / np.sqrt(sample_size)\n",
    "\n",
    "# Calculate critical value (two-tailed test, alpha = 0.10)\n",
    "confidence_level = 0.90\n",
    "critical_value = stats.norm.ppf((1 + confidence_level) / 2)\n",
    "\n",
    "# Calculate confidence interval\n",
    "lower_bound = sample_mean - critical_value * std_error\n",
    "upper_bound = sample_mean + critical_value * std_error\n",
    "\n",
    "print(f\"90% Confidence Interval: ({lower_bound:.2f}, {upper_bound:.2f})\")"
   ]
  },
  {
   "cell_type": "markdown",
   "id": "e2e14115-a60e-44ea-a6ac-f27448739b6c",
   "metadata": {},
   "source": [
    "**Interpretation:**\n",
    "The 90% confidence interval for the population mean based on this sample is (72.99, 77.01). This means we are 90% confident that the true population mean lies within this interval."
   ]
  },
  {
   "cell_type": "markdown",
   "id": "da59754d-a602-4f59-8a39-fc6245727b4a",
   "metadata": {},
   "source": [
    "**Q6. Use Python to plot the chi-square distribution with 10 degrees of freedom. Label the axes and shade the area corresponding to a chi-square statistic of 15.**"
   ]
  },
  {
   "cell_type": "code",
   "execution_count": 8,
   "id": "f5fd38d6-29dc-4fe1-b7df-2ead178cbc13",
   "metadata": {},
   "outputs": [
    {
     "data": {
      "image/png": "[encoded data removed]",
      "text/plain": [
       "<Figure size 640x480 with 1 Axes>"
      ]
     },
     "metadata": {},
     "output_type": "display_data"
    }
   ],
   "source": [
    "import numpy as np\n",
    "import matplotlib.pyplot as plt\n",
    "import scipy.stats as stats\n",
    "\n",
    "# Degrees of freedom\n",
    "df = 10\n",
    "\n",
    "# Generate x values for plotting\n",
    "x = np.linspace(0, 30, 1000)\n",
    "\n",
    "# Plot the chi-square distribution\n",
    "plt.plot(x, stats.chi2.pdf(x, df), 'b-', label=f'Chi-square df={df}')\n",
    "\n",
    "# Shade the area under the curve where chi-square statistic >= 15\n",
    "x_shade = np.linspace(15, 30, 100)\n",
    "plt.fill_between(x_shade, stats.chi2.pdf(x_shade, df), color='orange', alpha=0.5)\n",
    "\n",
    "# Add labels and title\n",
    "plt.title(f'Chi-square Distribution with {df} Degrees of Freedom')\n",
    "plt.xlabel('Chi-square Statistic')\n",
    "plt.ylabel('Probability Density Function')\n",
    "plt.legend()\n",
    "\n",
    "plt.show()"
   ]
  },
  {
   "cell_type": "markdown",
   "id": "a6787b2d-e363-435b-80dc-9e6a1156e806",
   "metadata": {},
   "source": [
    "**Q7. A random sample of 1000 people was asked if they preferred Coke or Pepsi. Of the sample, 520 preferred Coke. Calculate a 99% confidence interval for the true proportion of people in the population who prefer Coke.**\n",
    "\n",
    "To calculate the confidence interval for a proportion again:"
   ]
  },
  {
   "cell_type": "code",
   "execution_count": 9,
   "id": "a3b9e7a5-5262-4a1a-ae04-6cad5c7c8ee6",
   "metadata": {},
   "outputs": [
    {
     "name": "stdout",
     "output_type": "stream",
     "text": [
      "99% Confidence Interval for proportion who prefer Coke: (0.4793, 0.5607)\n"
     ]
    }
   ],
   "source": [
    "import numpy as np\n",
    "from scipy import stats\n",
    "\n",
    "# Given data\n",
    "n = 1000  # Total sample size\n",
    "preferred_coke = 520  # Number of people who prefer Coke\n",
    "\n",
    "# Calculate sample proportion\n",
    "p_hat = preferred_coke / n\n",
    "\n",
    "# Calculate standard error\n",
    "std_error = np.sqrt(p_hat * (1 - p_hat) / n)\n",
    "\n",
    "# Calculate critical value (two-tailed test, alpha = 0.01)\n",
    "confidence_level = 0.99\n",
    "critical_value = stats.norm.ppf((1 + confidence_level) / 2)\n",
    "\n",
    "# Calculate confidence interval\n",
    "lower_bound = p_hat - critical_value * std_error\n",
    "upper_bound = p_hat + critical_value * std_error\n",
    "\n",
    "print(f\"99% Confidence Interval for proportion who prefer Coke: ({lower_bound:.4f}, {upper_bound:.4f})\")\n"
   ]
  },
  {
   "cell_type": "markdown",
   "id": "5c9e62d9-c7f6-4ed6-ae4d-05e255643e9b",
   "metadata": {},
   "source": [
    "**Q8. A researcher hypothesizes that a coin is biased towards tails. They flip the coin 100 times and observe 45 tails. Conduct a chi-square goodness of fit test to determine if the observed frequencies match the expected frequencies of a fair coin. Use a significance level of 0.05.**\n",
    "\n",
    "For a chi-square goodness of fit test, we compare observed frequencies with expected frequencies under the null hypothesis (in this case, a fair coin)."
   ]
  },
  {
   "cell_type": "code",
   "execution_count": 5,
   "id": "42ea85e8-6d84-4cab-94dc-9d9bb17bda40",
   "metadata": {},
   "outputs": [
    {
     "name": "stdout",
     "output_type": "stream",
     "text": [
      "Chi-square Statistic: 1.0000\n",
      "P-value: 0.3173\n",
      "Degrees of Freedom: 1\n",
      "Fail to reject null hypothesis: The coin is fair.\n"
     ]
    }
   ],
   "source": [
    "import numpy as np\n",
    "from scipy import stats\n",
    "\n",
    "# Given data\n",
    "observed = np.array([45, 55])  # Tails, Heads (observed frequencies)\n",
    "expected = np.array([50, 50])  # Tails, Heads (expected frequencies for fair coin)\n",
    "\n",
    "# Perform chi-square goodness of fit test\n",
    "chi2_stat, p_value = stats.chisquare(observed, expected)\n",
    "\n",
    "# Degrees of freedom\n",
    "df = len(observed) - 1\n",
    "\n",
    "# Significance level\n",
    "alpha = 0.05\n",
    "\n",
    "print(f\"Chi-square Statistic: {chi2_stat:.4f}\")\n",
    "print(f\"P-value: {p_value:.4f}\")\n",
    "print(f\"Degrees of Freedom: {df}\")\n",
    "\n",
    "# Compare p-value with significance level\n",
    "if p_value < alpha:\n",
    "    print(\"Reject null hypothesis: The coin is biased towards tails.\")\n",
    "else:\n",
    "    print(\"Fail to reject null hypothesis: The coin is fair.\")\n",
    "\n",
    "\n"
   ]
  },
  {
   "cell_type": "markdown",
   "id": "c301b060-3429-47ad-835a-c8879b8aa472",
   "metadata": {},
   "source": [
    "***Q9***"
   ]
  },
  {
   "cell_type": "markdown",
   "id": "cfc5fed5-dfd1-4a80-a426-fea7ed9e8c2c",
   "metadata": {},
   "source": [
    "To conduct a chi-square test for independence for the given contingency table in Python, we'll use the `scipy.stats` module. Here's how you can perform the test and interpret the results:\n",
    "\n",
    "Given contingency table:\n",
    "```\n",
    "                 Lung Cancer: Yes   Lung Cancer: No\n",
    "Smoker            60                 140\n",
    "Non-smoker        30                 170\n",
    "```\n",
    "\n",
    "### Steps to perform the chi-square test for independence:\n",
    "\n",
    "1. **Set up the contingency table:** Convert the counts into a 2x2 numpy array.\n",
    "\n",
    "2. **Perform the chi-square test:** Use `chi2_contingency` function from `scipy.stats` to calculate the chi-square statistic, p-value, degrees of freedom, and expected frequencies.\n",
    "\n",
    "3. **Interpret the results:** Compare the p-value to the significance level (0.05 in this case) to determine whether to reject the null hypothesis.\n",
    "\n",
    "Here's how you can implement this in Python:"
   ]
  },
  {
   "cell_type": "code",
   "execution_count": 4,
   "id": "9dec1145-b7c4-43b9-9a5e-99bd524a4ae7",
   "metadata": {},
   "outputs": [
    {
     "name": "stdout",
     "output_type": "stream",
     "text": [
      "Chi-square Statistic: 12.0573\n",
      "P-value: 0.0005\n",
      "Degrees of Freedom: 1\n",
      "Expected Frequencies:\n",
      "[[ 45. 155.]\n",
      " [ 45. 155.]]\n",
      "Reject null hypothesis: There is a significant association between smoking status and lung cancer diagnosis.\n"
     ]
    }
   ],
   "source": [
    "import numpy as np\n",
    "from scipy.stats import chi2_contingency\n",
    "\n",
    "# Given data\n",
    "observed = np.array([[60, 140],\n",
    "                     [30, 170]])\n",
    "\n",
    "# Perform chi-square test of independence\n",
    "chi2_stat, p_value, dof, expected = chi2_contingency(observed)\n",
    "\n",
    "print(f\"Chi-square Statistic: {chi2_stat:.4f}\")\n",
    "print(f\"P-value: {p_value:.4f}\")\n",
    "print(f\"Degrees of Freedom: {dof}\")\n",
    "print(\"Expected Frequencies:\")\n",
    "print(expected)\n",
    "\n",
    "# Compare p-value with significance level (alpha = 0.05)\n",
    "alpha = 0.05\n",
    "if p_value < alpha:\n",
    "    print(\"Reject null hypothesis: There is a significant association between smoking status and lung cancer diagnosis.\")\n",
    "else:\n",
    "    print(\"Fail to reject null hypothesis: There is no significant association between smoking status and lung cancer diagnosis.\")"
   ]
  },
  {
   "cell_type": "markdown",
   "id": "cb28b5b3-8710-49b8-aec7-f413c986d3da",
   "metadata": {},
   "source": [
    "### Interpretation of Results:\n",
    "- **Chi-square Statistic:** This measures the strength of the association between smoking status and lung cancer diagnosis. Higher values indicate stronger association.\n",
    "- **P-value:** The probability of observing a chi-square statistic at least as extreme as the one calculated, assuming the null hypothesis (independence) is true.\n",
    "- **Degrees of Freedom:** Calculated as \\( (rows - 1) \\times (columns - 1) \\), where `rows` and `columns` are the number of rows and columns in the contingency table.\n",
    "- **Expected Frequencies:** These are the frequencies that would be expected under the null hypothesis of independence.\n",
    "\n",
    "### Conclusion:\n",
    "Based on the results of the chi-square test:\n",
    "- The chi-square statistic is calculated based on the contingency table.\n",
    "- The p-value is compared to the significance level (0.05).\n",
    "- In this case, if the p-value is less than 0.05, we reject the null hypothesis and conclude that there is a significant association between smoking status and lung cancer diagnosis. If the p-value is greater than or equal to 0.05, we fail to reject the null hypothesis, indicating no significant association.\n",
    "\n",
    "This procedure provides a statistical basis for determining whether smoking status and lung cancer diagnosis are associated in the given population sample."
   ]
  },
  {
   "cell_type": "markdown",
   "id": "96b3a63d-5d93-4a1e-8860-0e75dbb9bc91",
   "metadata": {},
   "source": [
    "****Q10****"
   ]
  },
  {
   "cell_type": "markdown",
   "id": "e4ec4e1e-2ce9-41f3-9e57-34be0b79dc26",
   "metadata": {},
   "source": [
    "To conduct a chi-square test for independence for the given contingency table in Python, we'll follow a similar approach as before using the `scipy.stats` module. Here's how you can perform the test and interpret the results:\n",
    "\n",
    "Given contingency table:\n",
    "```\n",
    "                      Milk Chocolate   Dark Chocolate   White Chocolate\n",
    "U.S. (n=500)          200              150              150\n",
    "U.K. (n=500)          225              175              100\n",
    "```\n",
    "\n",
    "### Steps to perform the chi-square test for independence:\n",
    "\n",
    "1. **Set up the contingency table:** Convert the counts into a 2x3 numpy array (since there are 3 categories of chocolate preference).\n",
    "\n",
    "2. **Perform the chi-square test:** Use `chi2_contingency` function from `scipy.stats` to calculate the chi-square statistic, p-value, degrees of freedom, and expected frequencies.\n",
    "\n",
    "3. **Interpret the results:** Compare the p-value to the significance level (0.01 in this case) to determine whether to reject the null hypothesis.\n",
    "\n",
    "Here's how you can implement this in Python:"
   ]
  },
  {
   "cell_type": "code",
   "execution_count": 10,
   "id": "9bff0c6d-adda-4f52-9734-1770339db6fd",
   "metadata": {},
   "outputs": [
    {
     "name": "stdout",
     "output_type": "stream",
     "text": [
      "Chi-square Statistic: 13.3937\n",
      "P-value: 0.0012\n",
      "Degrees of Freedom: 2\n",
      "Expected Frequencies:\n",
      "[[212.5 162.5 125. ]\n",
      " [212.5 162.5 125. ]]\n",
      "Reject null hypothesis: There is a significant association between chocolate preference and country of origin.\n"
     ]
    }
   ],
   "source": [
    "import numpy as np\n",
    "from scipy.stats import chi2_contingency\n",
    "\n",
    "# Given data\n",
    "observed = np.array([[200, 150, 150],\n",
    "                     [225, 175, 100]])\n",
    "\n",
    "# Perform chi-square test of independence\n",
    "chi2_stat, p_value, dof, expected = chi2_contingency(observed)\n",
    "\n",
    "print(f\"Chi-square Statistic: {chi2_stat:.4f}\")\n",
    "print(f\"P-value: {p_value:.4f}\")\n",
    "print(f\"Degrees of Freedom: {dof}\")\n",
    "print(\"Expected Frequencies:\")\n",
    "print(expected)\n",
    "\n",
    "# Compare p-value with significance level (alpha = 0.01)\n",
    "alpha = 0.01\n",
    "if p_value < alpha:\n",
    "    print(\"Reject null hypothesis: There is a significant association between chocolate preference and country of origin.\")\n",
    "else:\n",
    "    print(\"Fail to reject null hypothesis: There is no significant association between chocolate preference and country of origin.\")"
   ]
  },
  {
   "cell_type": "markdown",
   "id": "41dd891c-2bc7-4efb-a3b8-31718e823a20",
   "metadata": {},
   "source": [
    "### Interpretation of Results:\n",
    "- **Chi-square Statistic:** Measures the strength of the association between chocolate preference and country of origin.\n",
    "- **P-value:** The probability of observing a chi-square statistic at least as extreme as the one calculated, assuming the null hypothesis (independence) is true.\n",
    "- **Degrees of Freedom:** Calculated as \\( (rows - 1) \\times (columns - 1) \\), where `rows` and `columns` are the number of rows and columns in the contingency table.\n",
    "- **Expected Frequencies:** These are the frequencies that would be expected under the null hypothesis of independence.\n",
    "\n",
    "### Conclusion:\n",
    "Based on the results of the chi-square test:\n",
    "- The chi-square statistic is calculated based on the contingency table.\n",
    "- The p-value is compared to the significance level (0.01).\n",
    "- In this case, if the p-value is less than 0.01, we reject the null hypothesis and conclude that there is a significant association between chocolate preference and country of origin. If the p-value is greater than or equal to 0.01, we fail to reject the null hypothesis, indicating no significant association.\n",
    "\n",
    "This procedure provides a statistical basis for determining whether chocolate preference varies significantly between the U.S. and the U.K."
   ]
  },
  {
   "cell_type": "markdown",
   "id": "bf2cb863-9591-49d4-ab9d-a57babf20aea",
   "metadata": {},
   "source": [
    "**Q11. A random sample of 30 people was selected from a population with an unknown mean and standard\n",
    "deviation. The sample mean was found to be 72 and the sample standard deviation was found to be 10.\n",
    "Conduct a hypothesis test to determine if the population mean is significantly different from 70. Use a\n",
    "significance level of 0.05.**"
   ]
  },
  {
   "cell_type": "markdown",
   "id": "d178c744-698b-41be-a724-b470f6f5e926",
   "metadata": {},
   "source": [
    "To conduct a hypothesis test to determine if the population mean is significantly different from 70, given the sample data, we'll perform a one-sample t-test in Python. Here are the steps to approach this problem:\n",
    "\n",
    "### Given data:\n",
    "- Sample size (n) = 30\n",
    "- Sample mean (\\( \\bar{x} \\)) = 72\n",
    "- Sample standard deviation (s) = 10\n",
    "- Population mean (μ) = 70 (hypothesized value)\n",
    "- Significance level (α) = 0.05\n",
    "\n",
    "### Hypotheses:\n",
    "- **Null hypothesis (H₀):** The population mean is equal to 70. \\( H₀: \\mu = 70 \\)\n",
    "- **Alternative hypothesis (H₁):** The population mean is significantly different from 70. \\( H₁: \\mu \\neq 70 \\)\n",
    "\n",
    "### Test Statistic:\n",
    "Since the population standard deviation (σ) is unknown and we have a sample size less than 30, we use the t-distribution for our test statistic.\n",
    "\n",
    "\\[ t = \\frac{\\bar{x} - \\mu}{\\frac{s}{\\sqrt{n}}} \\]\n",
    "\n",
    "Where:\n",
    "- \\( \\bar{x} \\) is the sample mean,\n",
    "- \\( \\mu \\) is the population mean under the null hypothesis,\n",
    "- \\( s \\) is the sample standard deviation,\n",
    "- \\( n \\) is the sample size.\n",
    "\n",
    "### Steps to Perform the Test in Python:\n",
    "\n",
    "1. **Calculate the t-statistic:**\n",
    "   "
   ]
  },
  {
   "cell_type": "code",
   "execution_count": 14,
   "id": "47e21c20-0ebe-4052-bd16-36a98980455b",
   "metadata": {},
   "outputs": [
    {
     "name": "stdout",
     "output_type": "stream",
     "text": [
      "t-statistic: 1.0954\n"
     ]
    }
   ],
   "source": [
    "    import numpy as np\n",
    "    from scipy import stats\n",
    "   \n",
    "   # Given data\n",
    "    n = 30\n",
    "    sample_mean = 72\n",
    "    sample_std = 10\n",
    "    population_mean = 70\n",
    "   \n",
    "   # Calculate t-statistic\n",
    "    t_statistic = (sample_mean - population_mean) / (sample_std / np.sqrt(n))\n",
    "    print(f\"t-statistic: {t_statistic:.4f}\")\n",
    "  "
   ]
  },
  {
   "cell_type": "markdown",
   "id": "1b3b7aba-57c6-4ad1-926b-62b1d5ce6b67",
   "metadata": {},
   "source": [
    "2. **Calculate degrees of freedom:**\n",
    "   Degrees of freedom \\( df = n - 1 \\)\n",
    " "
   ]
  },
  {
   "cell_type": "code",
   "execution_count": 18,
   "id": "5cc1cef9-496c-4b74-8270-5676da8fe49e",
   "metadata": {},
   "outputs": [
    {
     "name": "stdout",
     "output_type": "stream",
     "text": [
      "Degrees of Freedom: 29\n"
     ]
    }
   ],
   "source": [
    "df = n - 1\n",
    "print(f\"Degrees of Freedom: {df}\")\n",
    "\n"
   ]
  },
  {
   "cell_type": "markdown",
   "id": "11493883-3a6e-495f-a123-565ad66192b4",
   "metadata": {},
   "source": [
    "3. **Calculate p-value:**\n",
    "   Use `stats.t.sf` to find the two-tailed p-value since we are interested in both tails.\n",
    "  "
   ]
  },
  {
   "cell_type": "code",
   "execution_count": 20,
   "id": "05831f0d-378e-49ce-9a34-2494f69c578f",
   "metadata": {},
   "outputs": [
    {
     "name": "stdout",
     "output_type": "stream",
     "text": [
      "P-value: 0.2823\n"
     ]
    }
   ],
   "source": [
    "   # Calculate two-tailed p-value\n",
    "  # Calculate two-tailed p-value\n",
    "p_value = 2 * stats.t.sf(np.abs(t_statistic), df)\n",
    "print(f\"P-value: {p_value:.4f}\")\n"
   ]
  },
  {
   "cell_type": "markdown",
   "id": "1dd40efd-7f59-4788-b961-e1924ffef975",
   "metadata": {},
   "source": [
    "4. **Compare p-value with significance level:**\n",
    "   Determine whether to reject the null hypothesis based on the p-value and significance level."
   ]
  },
  {
   "cell_type": "code",
   "execution_count": 21,
   "id": "451abf93-ebb6-4e48-8039-05fecedd7607",
   "metadata": {},
   "outputs": [
    {
     "name": "stdout",
     "output_type": "stream",
     "text": [
      "Fail to reject null hypothesis: Population mean is not significantly different from 70.\n"
     ]
    }
   ],
   "source": [
    "# Set significance level\n",
    "alpha = 0.05\n",
    "\n",
    "# Compare p-value with alpha\n",
    "if p_value < alpha:\n",
    "    print(\"Reject null hypothesis: Population mean is significantly different from 70.\")\n",
    "else:\n",
    "    print(\"Fail to reject null hypothesis: Population mean is not significantly different from 70.\")\n"
   ]
  },
  {
   "cell_type": "markdown",
   "id": "1709eb8e-c6f5-4db3-b9cb-9ec4fabdaed9",
   "metadata": {},
   "source": [
    "### Interpretation of Results:\n",
    "- **t-statistic:** Measures how many standard errors the sample mean is away from the hypothesized population mean (70).\n",
    "- **Degrees of Freedom:** Determines the shape of the t-distribution used for the test.\n",
    "- **P-value:** Probability of observing a t-statistic at least as extreme as the one observed, assuming the null hypothesis is true.\n",
    "- **Conclusion:** Based on the p-value and significance level:\n",
    "  - If p-value < α (0.05), reject the null hypothesis. There is sufficient evidence to conclude that the population mean is significantly different from 70.\n",
    "  - If p-value ≥ α (0.05), fail to reject the null hypothesis. There is not enough evidence to conclude that the population mean is significantly different from 70.\n",
    "\n",
    "This procedure provides a statistical basis for determining whether the sample provides enough evidence to reject the hypothesis that the population mean is 70."
   ]
  },
  {
   "cell_type": "code",
   "execution_count": null,
   "id": "a30c1e41-b6a3-46d0-8239-821c0e494e82",
   "metadata": {},
   "outputs": [],
   "source": []
  }
 ],
 "metadata": {
  "kernelspec": {
   "display_name": "Python 3 (ipykernel)",
   "language": "python",
   "name": "python3"
  },
  "language_info": {
   "codemirror_mode": {
    "name": "ipython",
    "version": 3
   },
   "file_extension": ".py",
   "mimetype": "text/x-python",
   "name": "python",
   "nbconvert_exporter": "python",
   "pygments_lexer": "ipython3",
   "version": "3.10.8"
  }
 },
 "nbformat": 4,
 "nbformat_minor": 5
}
