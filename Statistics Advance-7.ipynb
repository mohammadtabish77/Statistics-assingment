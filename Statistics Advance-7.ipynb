{
 "cells": [
  {
   "cell_type": "markdown",
   "id": "f260832c-3c02-469d-adc4-ea553192ec00",
   "metadata": {},
   "source": [
    "### Q1. Python function to calculate F-value for variance ratio test"
   ]
  },
  {
   "cell_type": "code",
   "execution_count": 1,
   "id": "6ae4bfcc-521c-46b6-af04-5adc95de8c64",
   "metadata": {},
   "outputs": [
    {
     "name": "stdout",
     "output_type": "stream",
     "text": [
      "F-value: 4.0, p-value: 0.896\n"
     ]
    }
   ],
   "source": [
    "import numpy as np\n",
    "from scipy.stats import f\n",
    "\n",
    "def calculate_f_value(data1, data2):\n",
    "    # Calculate variances\n",
    "    var1 = np.var(data1, ddof=1)  # sample variance of data1\n",
    "    var2 = np.var(data2, ddof=1)  # sample variance of data2\n",
    "    \n",
    "    # Calculate F-value\n",
    "    F = var1 / var2 if var1 >= var2 else var2 / var1\n",
    "    \n",
    "    # Degrees of freedom\n",
    "    df1 = len(data1) - 1\n",
    "    df2 = len(data2) - 1\n",
    "    \n",
    "    # Calculate p-value\n",
    "    p_value = f.cdf(F, df1, df2)  # Cumulative distribution function (F-distribution) for p-value\n",
    "    \n",
    "    return F, p_value\n",
    "\n",
    "# Example usage:\n",
    "data1 = np.array([1, 2, 3, 4, 5])\n",
    "data2 = np.array([2, 4, 6, 8, 10])\n",
    "\n",
    "F, p_value = calculate_f_value(data1, data2)\n",
    "print(f\"F-value: {F}, p-value: {p_value}\")"
   ]
  },
  {
   "cell_type": "markdown",
   "id": "9373c0f0-f189-4445-b6ad-5e3a29e0cb12",
   "metadata": {},
   "source": [
    "### Q2. Python function to calculate critical F-value for a two-tailed test"
   ]
  },
  {
   "cell_type": "code",
   "execution_count": 2,
   "id": "3bce411a-7c2c-4ef4-955e-6b52f1948c6b",
   "metadata": {},
   "outputs": [
    {
     "name": "stdout",
     "output_type": "stream",
     "text": [
      "Critical F-value: 3.8586986662732143\n"
     ]
    }
   ],
   "source": [
    "def critical_f_value(alpha, dfn, dfd):\n",
    "    return f.ppf(1 - alpha/2, dfn, dfd)\n",
    "\n",
    "# Example usage:\n",
    "alpha = 0.05\n",
    "dfn = 3  # degrees of freedom numerator\n",
    "dfd = 20  # degrees of freedom denominator\n",
    "\n",
    "critical_F = critical_f_value(alpha, dfn, dfd)\n",
    "print(f\"Critical F-value: {critical_F}\")"
   ]
  },
  {
   "cell_type": "markdown",
   "id": "dfd99e9b-d149-4d8d-a190-e17abaa07164",
   "metadata": {},
   "source": [
    "### Q3. Python program for F-test on random samples from two normal distributions"
   ]
  },
  {
   "cell_type": "code",
   "execution_count": 3,
   "id": "13657fdf-371b-4bde-937c-ec1d6e5cd69c",
   "metadata": {},
   "outputs": [
    {
     "name": "stdout",
     "output_type": "stream",
     "text": [
      "F-value: 4.3919728131444895, degrees of freedom: 19, 19, p-value: 0.9988748604913502\n"
     ]
    }
   ],
   "source": [
    "def f_test_normal_samples(sample1, sample2):\n",
    "    var1 = np.var(sample1, ddof=1)\n",
    "    var2 = np.var(sample2, ddof=1)\n",
    "    \n",
    "    F = var1 / var2 if var1 >= var2 else var2 / var1\n",
    "    \n",
    "    df1 = len(sample1) - 1\n",
    "    df2 = len(sample2) - 1\n",
    "    \n",
    "    p_value = f.cdf(F, df1, df2)\n",
    "    \n",
    "    return F, df1, df2, p_value\n",
    "\n",
    "# Example usage:\n",
    "np.random.seed(0)\n",
    "sample1 = np.random.normal(loc=0, scale=2, size=20)\n",
    "sample2 = np.random.normal(loc=0, scale=3, size=20)\n",
    "\n",
    "F, df1, df2, p_value = f_test_normal_samples(sample1, sample2)\n",
    "print(f\"F-value: {F}, degrees of freedom: {df1}, {df2}, p-value: {p_value}\")"
   ]
  },
  {
   "cell_type": "markdown",
   "id": "dc970d63-79a8-4a90-a8bc-3fb6c0988418",
   "metadata": {},
   "source": [
    "### Q4. Conducting an F-test to compare variances with known population variances"
   ]
  },
  {
   "cell_type": "code",
   "execution_count": 4,
   "id": "d2e73395-8b33-4411-b433-1ff97f7bc4af",
   "metadata": {},
   "outputs": [
    {
     "name": "stdout",
     "output_type": "stream",
     "text": [
      "Fail to reject null hypothesis: Variances are not significantly different. F-value: 1.5, p-value: 0.7438051006321003\n"
     ]
    }
   ],
   "source": [
    "from scipy.stats import f\n",
    "\n",
    "variance1 = 10\n",
    "variance2 = 15\n",
    "n1 = 12\n",
    "n2 = 12\n",
    "\n",
    "F = variance2 / variance1\n",
    "dfn = n2 - 1\n",
    "dfd = n1 - 1\n",
    "\n",
    "p_value = f.cdf(F, dfn, dfd)\n",
    "\n",
    "alpha = 0.05\n",
    "if p_value < alpha:\n",
    "    print(f\"Reject null hypothesis: Variances are significantly different. F-value: {F}, p-value: {p_value}\")\n",
    "else:\n",
    "    print(f\"Fail to reject null hypothesis: Variances are not significantly different. F-value: {F}, p-value: {p_value}\")"
   ]
  },
  {
   "cell_type": "markdown",
   "id": "d2aa35bb-ddde-4517-859d-d80c1b5699f5",
   "metadata": {},
   "source": [
    "### Q5. Conducting an F-test for variance claim justification"
   ]
  },
  {
   "cell_type": "code",
   "execution_count": 5,
   "id": "7a267764-839b-47e7-835a-0cec1e35ed9c",
   "metadata": {},
   "outputs": [
    {
     "name": "stdout",
     "output_type": "stream",
     "text": [
      "Fail to reject null hypothesis: Sample variance does not differ significantly from claimed population variance. F-value: 1.2, p-value: 0.6706345317182756\n"
     ]
    }
   ],
   "source": [
    "from scipy.stats import f\n",
    "\n",
    "sample_variance = 0.006\n",
    "population_variance = 0.005\n",
    "n = 25\n",
    "\n",
    "F = sample_variance / population_variance\n",
    "dfn = n - 1\n",
    "dfd = n - 1\n",
    "\n",
    "p_value = f.cdf(F, dfn, dfd)\n",
    "\n",
    "alpha = 0.01\n",
    "if p_value < alpha:\n",
    "    print(f\"Reject null hypothesis: Sample variance differs significantly from claimed population variance. F-value: {F}, p-value: {p_value}\")\n",
    "else:\n",
    "    print(f\"Fail to reject null hypothesis: Sample variance does not differ significantly from claimed population variance. F-value: {F}, p-value: {p_value}\")"
   ]
  },
  {
   "cell_type": "markdown",
   "id": "33263baa-56ba-4b66-8501-c05286942513",
   "metadata": {},
   "source": [
    "### Q6. Python function to calculate mean and variance of F-distribution"
   ]
  },
  {
   "cell_type": "code",
   "execution_count": 6,
   "id": "6fa514c4-79a1-4606-a036-96f52e4e8896",
   "metadata": {},
   "outputs": [
    {
     "name": "stdout",
     "output_type": "stream",
     "text": [
      "Mean: 1.25, Variance: 1.3541666666666667\n"
     ]
    }
   ],
   "source": [
    "def mean_variance_f_distribution(dfn, dfd):\n",
    "    mean = dfd / (dfd - 2)\n",
    "    variance = (2 * (dfd**2) * (dfn + dfd - 2)) / (dfn * (dfd - 2)**2 * (dfd - 4))\n",
    "    return mean, variance\n",
    "\n",
    "# Example usage:\n",
    "dfn = 5\n",
    "dfd = 10\n",
    "\n",
    "mean, variance = mean_variance_f_distribution(dfn, dfd)\n",
    "print(f\"Mean: {mean}, Variance: {variance}\")"
   ]
  },
  {
   "cell_type": "markdown",
   "id": "6669f12a-02d2-43f0-b271-1241a4bb70be",
   "metadata": {},
   "source": [
    "### Q7. Conducting an F-test for comparing variances from two samples"
   ]
  },
  {
   "cell_type": "code",
   "execution_count": 7,
   "id": "fef56765-0897-41b6-9661-8dc8ea9c6e1e",
   "metadata": {},
   "outputs": [
    {
     "name": "stdout",
     "output_type": "stream",
     "text": [
      "Fail to reject null hypothesis: Variances are not significantly different. F-value: 1.25, p-value: 0.6583902808707023\n"
     ]
    }
   ],
   "source": [
    "from scipy.stats import f\n",
    "\n",
    "sample1_variance = 25\n",
    "sample2_variance = 20\n",
    "n1 = 10\n",
    "n2 = 15\n",
    "\n",
    "F = sample1_variance / sample2_variance\n",
    "dfn = n1 - 1\n",
    "dfd = n2 - 1\n",
    "\n",
    "p_value = f.cdf(F, dfn, dfd)\n",
    "\n",
    "alpha = 0.10\n",
    "if p_value < alpha:\n",
    "    print(f\"Reject null hypothesis: Variances are significantly different. F-value: {F}, p-value: {p_value}\")\n",
    "else:\n",
    "    print(f\"Fail to reject null hypothesis: Variances are not significantly different. F-value: {F}, p-value: {p_value}\")"
   ]
  },
  {
   "cell_type": "markdown",
   "id": "6ecfd3d6-dea4-435d-8e26-8f8f1cfdefb0",
   "metadata": {},
   "source": [
    "### Q8. Conducting an F-test to compare variances of waiting times at two restaurants"
   ]
  },
  {
   "cell_type": "code",
   "execution_count": 8,
   "id": "d4d3fac4-6e7d-4204-a083-28cfcd7a54eb",
   "metadata": {},
   "outputs": [
    {
     "name": "stdout",
     "output_type": "stream",
     "text": [
      "Fail to reject null hypothesis: Variances are not significantly different. F-value: 1.4551907719609583, p-value: 0.6723057376187954\n"
     ]
    }
   ],
   "source": [
    "from scipy.stats import f\n",
    "\n",
    "restaurant_A_times = np.array([24, 25, 28, 23, 22, 20, 27])\n",
    "restaurant_B_times = np.array([31, 33, 35, 30, 32, 36])\n",
    "\n",
    "var_A = np.var(restaurant_A_times, ddof=1)\n",
    "var_B = np.var(restaurant_B_times, ddof=1)\n",
    "\n",
    "F = var_B / var_A if var_B >= var_A else var_A / var_B\n",
    "dfn = len(restaurant_B_times) - 1\n",
    "dfd = len(restaurant_A_times) - 1\n",
    "\n",
    "p_value = f.cdf(F, dfn, dfd)\n",
    "\n",
    "alpha = 0.05\n",
    "if p_value < alpha:\n",
    "    print(f\"Reject null hypothesis: Variances are significantly different. F-value: {F}, p-value: {p_value}\")\n",
    "else:\n",
    "    print(f\"Fail to reject null hypothesis: Variances are not significantly different. F-value: {F}, p-value: {p_value}\")"
   ]
  },
  {
   "cell_type": "markdown",
   "id": "9e155cc4-e13b-4dbf-9320-c83367c7317d",
   "metadata": {},
   "source": [
    "### Q9. Conducting an F-test to compare variances of test scores between two groups"
   ]
  },
  {
   "cell_type": "code",
   "execution_count": 9,
   "id": "22cda3a3-c90a-41ad-ad7d-672c01b53f79",
   "metadata": {},
   "outputs": [
    {
     "name": "stdout",
     "output_type": "stream",
     "text": [
      "Fail to reject null hypothesis: Variances are not significantly different. F-value: 1.9442622950819677, p-value: 0.7584478225464656\n"
     ]
    }
   ],
   "source": [
    "from scipy.stats import f\n",
    "\n",
    "group_A_scores = np.array([80, 85, 90, 92, 87, 83])\n",
    "group_B_scores = np.array([75, 78, 82, 79, 81, 84])\n",
    "\n",
    "var_A = np.var(group_A_scores, ddof=1)\n",
    "var_B = np.var(group_B_scores, ddof=1)\n",
    "\n",
    "F = var_B / var_A if var_B >= var_A else var_A / var_B\n",
    "dfn = len(group_B_scores) - 1\n",
    "dfd = len(group_A_scores) - 1\n",
    "\n",
    "p_value = f.cdf(F, dfn, dfd)\n",
    "\n",
    "alpha = 0.01\n",
    "if p_value < alpha:\n",
    "    print(f\"Reject null hypothesis: Variances are significantly different. F-value: {F}, p-value: {p_value}\")\n",
    "else:\n",
    "    print(f\"Fail to reject null hypothesis: Variances are not significantly different. F-value: {F}, p-value: {p_value}\")\n",
    "\n",
    "\n"
   ]
  },
  {
   "cell_type": "code",
   "execution_count": null,
   "id": "4fc66273-2c9f-440f-afea-100341f0a491",
   "metadata": {},
   "outputs": [],
   "source": []
  }
 ],
 "metadata": {
  "kernelspec": {
   "display_name": "Python 3 (ipykernel)",
   "language": "python",
   "name": "python3"
  },
  "language_info": {
   "codemirror_mode": {
    "name": "ipython",
    "version": 3
   },
   "file_extension": ".py",
   "mimetype": "text/x-python",
   "name": "python",
   "nbconvert_exporter": "python",
   "pygments_lexer": "ipython3",
   "version": "3.10.8"
  }
 },
 "nbformat": 4,
 "nbformat_minor": 5
}
