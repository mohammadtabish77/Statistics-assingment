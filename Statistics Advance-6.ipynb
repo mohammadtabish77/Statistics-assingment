{
 "cells": [
  {
   "cell_type": "markdown",
   "id": "5b51faa3-80b5-4d76-a803-8d707033379a",
   "metadata": {},
   "source": [
    "### Q1. Assumptions required to use ANOVA and examples of violations"
   ]
  },
  {
   "cell_type": "markdown",
   "id": "e3eefb21-25ed-4a58-acbb-76888882ad83",
   "metadata": {},
   "source": [
    "**Assumptions:**\n",
    "1. **Independence:** Observations within each group are independent of each other.\n",
    "2. **Normality:** The residuals (errors) of the model are normally distributed.\n",
    "3. **Homogeneity of variances (Homoscedasticity):** The variance of residuals is constant across all levels of the independent variable(s).\n",
    "\n",
    "**Examples of Violations:**\n",
    "- **Independence Violation:** Data collected from the same individuals over time (repeated measures) violates independence.\n",
    "- **Normality Violation:** Skewed distributions or outliers in the residuals.\n",
    "- **Homogeneity of Variances Violation:** Unequal variances across groups, especially problematic in small sample sizes or when data are not normally distributed."
   ]
  },
  {
   "cell_type": "markdown",
   "id": "5848769f-bde8-4bfd-b1eb-6bb7d2346131",
   "metadata": {},
   "source": [
    "### Q2. Three types of ANOVA and their uses\n",
    "\n",
    "1. **One-Way ANOVA:** Compares means across two or more independent groups to determine if there are significant differences.\n",
    "   - **Example:** Comparing the effectiveness of three different teaching methods on student test scores.\n",
    "\n",
    "2. **Two-Way ANOVA:** Examines the interaction between two independent variables (factors) on a dependent variable.\n",
    "   - **Example:** Evaluating the effects of both gender and educational background on academic performance.\n",
    "\n",
    "3. **Repeated Measures ANOVA:** Assesses changes in a dependent variable measured on the same subjects over multiple time points or conditions.\n",
    "   - **Example:** Testing the impact of three different therapies on patients' pain levels before treatment, immediately after, and one week post-treatment."
   ]
  },
  {
   "cell_type": "markdown",
   "id": "557416ce-3096-4720-893c-c443832362c0",
   "metadata": {},
   "source": [
    "### Q3. Partitioning of variance in ANOVA and its importance\n",
    "\n",
    "- **Partitioning of Variance:** In ANOVA, total variance (SST) is decomposed into explained variance (SSE) and unexplained variance (SSR).\n",
    "- **Importance:** Helps to understand how much of the total variation in the data is due to the independent variable(s) and how much is due to random error. This partitioning forms the basis for calculating F-statistics and determining the significance of results."
   ]
  },
  {
   "cell_type": "markdown",
   "id": "811f2014-5426-4e1a-a4bd-8c1852de0f88",
   "metadata": {},
   "source": [
    "### Q4. Calculation of SST, SSE, and SSR in one-way ANOVA using Python"
   ]
  },
  {
   "cell_type": "markdown",
   "id": "e28e8308-67f5-4c98-af08-e85f48d3c59a",
   "metadata": {},
   "source": [
    "In Python, using `scipy.stats`:"
   ]
  },
  {
   "cell_type": "code",
   "execution_count": 1,
   "id": "c65506b9-4e20-4d9a-8adc-c1f0e4ae3f4d",
   "metadata": {},
   "outputs": [
    {
     "name": "stdout",
     "output_type": "stream",
     "text": [
      "SST: 155.60\n",
      "SSE: 155.60\n",
      "SSR: 0.00\n",
      "F-statistic: 39.76\n",
      "P-value: 0.0000\n"
     ]
    }
   ],
   "source": [
    "import numpy as np\n",
    "from scipy import stats\n",
    "\n",
    "# Example data (weights for three diets)\n",
    "diet_A = [65.3, 67.2, 64.8, 66.5, 68.1]\n",
    "diet_B = [63.8, 62.1, 64.5, 61.9, 63.2]\n",
    "diet_C = [69.5, 71.2, 70.1, 72.5, 68.9]\n",
    "\n",
    "# Combine data\n",
    "data = np.concatenate([diet_A, diet_B, diet_C])\n",
    "\n",
    "# Group labels\n",
    "groups = ['A'] * len(diet_A) + ['B'] * len(diet_B) + ['C'] * len(diet_C)\n",
    "\n",
    "# One-way ANOVA\n",
    "f_statistic, p_value = stats.f_oneway(diet_A, diet_B, diet_C)\n",
    "\n",
    "# Calculate SST, SSE, SSR\n",
    "mean_total = np.mean(data)\n",
    "sst = np.sum((data - mean_total) ** 2)\n",
    "sse = np.sum((np.concatenate([diet_A, diet_B, diet_C]) - mean_total) ** 2)\n",
    "ssr = sst - sse\n",
    "\n",
    "print(f\"SST: {sst:.2f}\")\n",
    "print(f\"SSE: {sse:.2f}\")\n",
    "print(f\"SSR: {ssr:.2f}\")\n",
    "print(f\"F-statistic: {f_statistic:.2f}\")\n",
    "print(f\"P-value: {p_value:.4f}\")"
   ]
  },
  {
   "cell_type": "markdown",
   "id": "a8c5534a-0151-4415-810f-b08b328cad13",
   "metadata": {},
   "source": [
    "### Q5. Calculation of Main Effects and Interaction Effects in Two-Way ANOVA\n",
    "\n"
   ]
  },
  {
   "cell_type": "markdown",
   "id": "51ede0f7-25aa-4796-a942-20063697c17c",
   "metadata": {},
   "source": [
    "In a two-way ANOVA, you can calculate the main effects and interaction effects using Python by fitting an ANOVA model and examining the results. Here’s how you can approach this using the `statsmodels` library in Python:\n",
    "\n",
    "### Example Setup\n",
    "\n",
    "Suppose you have data where you want to analyze the effects of two factors: Factor A (with levels A1 and A2) and Factor B (with levels B1 and B2) on an outcome variable.\n",
    "\n",
    "### Example Code\n",
    "\n",
    "Here’s an example using `statsmodels` to perform a two-way ANOVA and interpret the main effects and interaction effects:"
   ]
  },
  {
   "cell_type": "code",
   "execution_count": 20,
   "id": "fe7de78c-8995-4bc8-9dee-ddbc4b673ba2",
   "metadata": {},
   "outputs": [
    {
     "name": "stdout",
     "output_type": "stream",
     "text": [
      "                 sum_sq   df             F    PR(>F)\n",
      "C(A)       5.000000e+01  1.0  1.000000e+02  0.000562\n",
      "C(B)       8.000000e+00  1.0  1.600000e+01  0.016130\n",
      "C(A):C(B)  6.310887e-30  1.0  1.262177e-29  1.000000\n",
      "Residual   2.000000e+00  4.0           NaN       NaN\n",
      "\n",
      "Main effects:\n",
      "0.8333333333333338\n",
      "0.13333333333333297\n",
      "\n",
      "Interaction effect:\n",
      "1.0518145402946785e-31\n",
      "\n",
      "There is no significant interaction effect between Factor A and Factor B.\n"
     ]
    }
   ],
   "source": [
    "import pandas as pd\n",
    "import statsmodels.api as sm\n",
    "from statsmodels.formula.api import ols\n",
    "\n",
    "# Example data setup\n",
    "data = {\n",
    "    'A': ['A1', 'A1', 'A2', 'A2', 'A1', 'A1', 'A2', 'A2'],\n",
    "    'B': ['B1', 'B2', 'B1', 'B2', 'B1', 'B2', 'B1', 'B2'],\n",
    "    'outcome': [10, 12, 15, 17, 9, 11, 14, 16]\n",
    "}\n",
    "df = pd.DataFrame(data)\n",
    "\n",
    "# Fit the ANOVA model\n",
    "model = ols('outcome ~ C(A) + C(B) + C(A):C(B)', data=df).fit()\n",
    "anova_table = sm.stats.anova_lm(model, typ=2)\n",
    "\n",
    "# Print the ANOVA table\n",
    "print(anova_table)\n",
    "\n",
    "# Interpretation of results\n",
    "# Main effects of Factor A and Factor B\n",
    "print(\"\\nMain effects:\")\n",
    "print(anova_table['sum_sq']['C(A)'] / anova_table['sum_sq'].sum())  # Proportion of variance explained by Factor A\n",
    "print(anova_table['sum_sq']['C(B)'] / anova_table['sum_sq'].sum())  # Proportion of variance explained by Factor B\n",
    "\n",
    "# Interaction effect between Factor A and Factor B\n",
    "print(\"\\nInteraction effect:\")\n",
    "print(anova_table['sum_sq']['C(A):C(B)'] / anova_table['sum_sq'].sum())  # Proportion of variance explained by interaction\n",
    "\n",
    "# Conclusion based on p-values\n",
    "alpha = 0.05\n",
    "if anova_table['PR(>F)']['C(A):C(B)'] < alpha:\n",
    "    print(\"\\nThere is a significant interaction effect between Factor A and Factor B.\")\n",
    "else:\n",
    "    print(\"\\nThere is no significant interaction effect between Factor A and Factor B.\")"
   ]
  },
  {
   "cell_type": "markdown",
   "id": "dec84834-db11-42f0-ab4e-bc72f52b13d8",
   "metadata": {},
   "source": [
    "### Explanation\n",
    "\n",
    "1. **Data Setup**: The example data has two categorical factors, A and B, and an outcome variable `outcome`.\n",
    "  \n",
    "2. **ANOVA Model**: We use the `ols` function from `statsmodels.formula.api` to specify the model formula (`outcome ~ C(A) + C(B) + C(A):C(B)`) where `C()` indicates categorical variables and `C(A):C(B)` specifies the interaction term.\n",
    "\n",
    "3. **Fitting the Model**: The model is fitted using `.fit()` method.\n",
    "\n",
    "4. **ANOVA Table**: The `anova_lm` function from `statsmodels.stats` computes the ANOVA table (`anova_table`) which contains sums of squares, degrees of freedom, F-statistic, and p-values.\n",
    "\n",
    "5. **Main Effects**: To calculate the main effects, you can divide the sums of squares of each main effect by the total sums of squares.\n",
    "\n",
    "6. **Interaction Effect**: The interaction effect is assessed by the sums of squares of the interaction term divided by the total sums of squares.\n",
    "\n",
    "7. **Interpretation**: Based on the p-values (`PR(>F)` column in the ANOVA table), you can determine if there are significant main effects and interaction effects.\n",
    "\n",
    "T"
   ]
  },
  {
   "cell_type": "markdown",
   "id": "75b0b851-38bd-4ab0-b3ed-a98930990948",
   "metadata": {},
   "source": [
    "### Q6. Interpretation of One-Way ANOVA Results\n",
    "\n",
    "Suppose you conducted a one-way ANOVA and obtained an F-statistic of 5.23 and a p-value of 0.02.\n",
    "\n",
    "- **Conclusion:** With a significance level of 0.05, since the p-value (0.02) is less than 0.05, we reject the null hypothesis.\n",
    "- **Interpretation:** There is sufficient evidence to suggest that there are significant differences between at least two of the groups being compared."
   ]
  },
  {
   "cell_type": "markdown",
   "id": "780c664d-f297-4cd6-b6eb-9419e649bdd8",
   "metadata": {},
   "source": [
    "### Q7. Handling Missing Data in Repeated Measures ANOVA\n",
    "\n",
    "In a repeated measures ANOVA, missing data can be handled by various methods:\n",
    "- **Pairwise deletion:** Exclude any participant with missing data from all analyses involving that participant.\n",
    "- **Mean substitution:** Replace missing data with the mean value of that variable across all participants.\n",
    "- **Model-based imputation:** Use statistical models to estimate missing values.\n",
    "\n",
    "#### Consequences:\n",
    "- **Bias:** Depending on the method chosen, estimates of effects may be biased if missingness is not completely random.\n",
    "- **Loss of Power:** Removing cases with missing data reduces the sample size, potentially reducing statistical power."
   ]
  },
  {
   "cell_type": "markdown",
   "id": "181425f7-d792-4445-83d7-719d10c536cc",
   "metadata": {},
   "source": [
    "### Q8. Common Post-hoc Tests after ANOVA\n",
    "\n",
    "Common post-hoc tests include:\n",
    "- **Tukey's HSD (Honestly Significant Difference):** Used when comparing all pairs of means to determine which pairs are significantly different.\n",
    "- **Bonferroni correction:** Adjusts the significance level to account for multiple comparisons.\n",
    "- **Sidak correction:** Another method to adjust for multiple comparisons.\n",
    "\n",
    "#### Example:\n",
    "- **Scenario:** After conducting a one-way ANOVA to compare the mean weight loss of three diets, you find a significant difference.\n",
    "- **Post-hoc Test:** Use Tukey's HSD to determine which specific pairs of diets have significantly different mean weight loss."
   ]
  },
  {
   "cell_type": "markdown",
   "id": "fba976e1-b7c5-4526-9a11-677a1e2e3f76",
   "metadata": {},
   "source": [
    "Q9. A researcher wants to compare the mean weight loss of three diets: A, B, and C. They collect data from\n",
    "50 participants who were randomly assigned to one of the diets. Conduct a one-way ANOVA using Python\n",
    "to determine if there are any significant differences between the mean weight loss of the three diets.\n",
    "Report the F-statistic and p-value, and interpret the results.### Q9. One-Way ANOVA Example in Python"
   ]
  },
  {
   "cell_type": "markdown",
   "id": "4d3b1946-525d-40cb-9485-ddaaf6d5bfd1",
   "metadata": {},
   "source": [
    "To conduct a one-way ANOVA in Python to compare the mean weight loss of three diets (A, B, and C), you can use the `statsmodels` library. Here’s how you can perform this analysis and interpret the results:\n",
    "\n",
    "### Example Setup\n",
    "\n",
    "Suppose you have collected weight loss data from 50 participants who were randomly assigned to one of the three diets (A, B, and C).\n",
    "\n",
    "### Example Code"
   ]
  },
  {
   "cell_type": "code",
   "execution_count": 22,
   "id": "7181db89-4181-4621-855d-5d27582c2095",
   "metadata": {},
   "outputs": [
    {
     "name": "stdout",
     "output_type": "stream",
     "text": [
      "F-statistic: 0.0509, p-value: 0.9504\n",
      "There is no significant difference between the mean weight loss of the three diets.\n"
     ]
    }
   ],
   "source": [
    "import scipy.stats as stats\n",
    "\n",
    "# Example data for weight loss across three diets\n",
    "diet_A = [2.1, 1.8, 2.0, 1.9, 2.2, 2.1, 1.8, 2.0, 1.9, 2.1, 1.7, 2.0]\n",
    "diet_B = [1.9, 2.2, 2.1, 1.8, 2.0, 1.9, 2.1, 2.0, 2.2, 1.7, 2.0, 1.9]\n",
    "diet_C = [2.2, 1.9, 2.1, 1.8, 2.0, 1.9, 2.1, 1.8, 2.0, 1.9, 2.2, 1.9]\n",
    "\n",
    "# Perform one-way ANOVA\n",
    "f_statistic, p_value = stats.f_oneway(diet_A, diet_B, diet_C)\n",
    "\n",
    "# Print results\n",
    "print(f\"F-statistic: {f_statistic:.4f}, p-value: {p_value:.4f}\")\n",
    "\n",
    "# Interpret results\n",
    "alpha = 0.05\n",
    "if p_value < alpha:\n",
    "    print(\"There is a significant difference between the mean weight loss of the three diets.\")\n",
    "else:\n",
    "    print(\"There is no significant difference between the mean weight loss of the three diets.\")\n"
   ]
  },
  {
   "cell_type": "markdown",
   "id": "002ed293-01b1-4a55-b17b-6ccb7cede83e",
   "metadata": {},
   "source": [
    "### Q10. Two-Way ANOVA Example in Python"
   ]
  },
  {
   "cell_type": "code",
   "execution_count": null,
   "id": "81f4f56d-180d-4db8-97c0-2edcb048725f",
   "metadata": {},
   "outputs": [],
   "source": [
    "import pandas as pd\n",
    "import statsmodels.api as sm\n",
    "from statsmodels.formula.api import ols\n",
    "\n",
    "# Example data setup\n",
    "data = {\n",
    "    'software': ['A'] * 10 + ['B'] * 10 + ['C'] * 10,  # 30 observations for 3 software programs\n",
    "    'experience': ['Novice'] * 15 + ['Experienced'] * 15,  # 15 observations for Novice, 15 for Experienced\n",
    "    'time_taken': [20, 22, 21, 25, 24, 23, 18, 19, 20, 24,  # Example data, adjust as per your actual data\n",
    "                   18, 17, 16, 19, 18, 20, 22, 21, 23, 20,\n",
    "                   19, 21, 23, 24, 22, 21, 25, 24, 19, 20]\n",
    "}\n",
    "df = pd.DataFrame(data)\n",
    "\n",
    "# Fit the two-way ANOVA model\n",
    "model = ols('time_taken ~ C(software) + C(experience) + C(software):C(experience)', data=df).fit()\n",
    "\n",
    "# Print ANOVA table\n",
    "anova_table = sm.stats.anova_lm(model, typ=2)\n",
    "print(anova_table)\n",
    "`"
   ]
  },
  {
   "cell_type": "markdown",
   "id": "5a556cec-788d-4877-991d-3011e0e389c8",
   "metadata": {},
   "source": [
    "### Q11. Two-Sample T-test Example in Python"
   ]
  },
  {
   "cell_type": "code",
   "execution_count": 12,
   "id": "7678eef6-257c-4234-addd-128fd668a6b3",
   "metadata": {},
   "outputs": [
    {
     "name": "stdout",
     "output_type": "stream",
     "text": [
      "There is a significant difference in test scores between the two groups (p = 0.0340)\n"
     ]
    }
   ],
   "source": [
    "from scipy.stats import ttest_ind\n",
    "\n",
    "# Example data setup\n",
    "control_group = [82, 78, 85, 88, 90, 79, 84, 86, 83, 81]  # Scores for control group\n",
    "experimental_group = [88, 84, 87, 89, 92, 82, 85, 90, 86, 88]  # Scores for experimental group\n",
    "\n",
    "# Conduct two-sample t-test\n",
    "t_stat, p_value = ttest_ind(control_group, experimental_group)\n",
    "\n",
    "# Interpret results\n",
    "if p_value < 0.05:\n",
    "    print(f\"There is a significant difference in test scores between the two groups (p = {p_value:.4f})\")\n",
    "else:\n",
    "    print(f\"No significant difference found (p = {p_value:.4f})\")"
   ]
  },
  {
   "cell_type": "markdown",
   "id": "cdcad269-1f1f-4e7b-b713-7cbfb7c7365c",
   "metadata": {},
   "source": [
    "### Q12. Repeated Measures ANOVA Example in Python"
   ]
  },
  {
   "cell_type": "code",
   "execution_count": null,
   "id": "df99cc24-3a54-4e53-bb39-a7a10ff098f4",
   "metadata": {},
   "outputs": [],
   "source": [
    "import pandas as pd\n",
    "import statsmodels.api as sm\n",
    "from statsmodels.formula.api import ols\n",
    "\n",
    "# Example data setup\n",
    "data = {\n",
    "    'store': ['Store A'] * 30 + ['Store B'] * 30 + ['Store C'] * 30,  # 90 observations for 3 stores\n",
    "    'sales': [100, 110, 105, 95, 102, 98, 105, 100, 107, 98, 103, 110,  # Example data, adjust as per your actual data\n",
    "              112, 108, 100, 105, 98, 104, 106, 112, 114, 110, 98, 102,\n",
    "              115, 108, 112, 105, 98, 100, 105, 98, 102, 108, 110, 112]\n",
    "}\n",
    "df = pd.DataFrame(data)\n",
    "\n",
    "# Fit the repeated measures ANOVA model\n",
    "model = ols('sales ~ C(store)', data=df).fit()\n",
    "\n",
    "# Print ANOVA table\n",
    "anova_table = sm.stats.anova_lm(model, typ=2)\n",
    "print(anova_table)\n"
   ]
  },
  {
   "cell_type": "markdown",
   "id": "7aae12a4-5acc-4fec-aeed-ad0484fc2362",
   "metadata": {},
   "source": [
    "#### Post-hoc Test for Repeated Measures ANOVA\n",
    "\n",
    "After finding significant differences with ANOVA, you might use pairwise comparison methods like Tukey's HSD or Bonferroni correction to determine which specific pairs of\n",
    "\n",
    " stores have significantly different sales."
   ]
  },
  {
   "cell_type": "code",
   "execution_count": null,
   "id": "f839a02a-a04c-4a48-bf10-6d772fd43e21",
   "metadata": {},
   "outputs": [],
   "source": []
  }
 ],
 "metadata": {
  "kernelspec": {
   "display_name": "Python 3 (ipykernel)",
   "language": "python",
   "name": "python3"
  },
  "language_info": {
   "codemirror_mode": {
    "name": "ipython",
    "version": 3
   },
   "file_extension": ".py",
   "mimetype": "text/x-python",
   "name": "python",
   "nbconvert_exporter": "python",
   "pygments_lexer": "ipython3",
   "version": "3.10.8"
  }
 },
 "nbformat": 4,
 "nbformat_minor": 5
}
