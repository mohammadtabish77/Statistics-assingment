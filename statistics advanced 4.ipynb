{
 "cells": [
  {
   "cell_type": "markdown",
   "id": "25b8fd1d-c240-48fd-ae48-6287ca637e99",
   "metadata": {},
   "source": [
    "**Q1: What is the difference between a t-test and a z-test? Provide an example scenario where you would use each type of test.**\n",
    "\n",
    "- **t-test:** Used to compare the means of two groups when the sample size is small (typically less than 30) and/or the population standard deviation is unknown. It assumes the data follow a normal distribution.\n",
    "\n",
    "  **Example:** You could use a t-test to compare the mean exam scores of students who attended two different study programs (Program A vs. Program B) with 25 students in each group.\n",
    "\n",
    "- **z-test:** Used to compare the means of two groups when the sample size is large (typically greater than 30) and/or the population standard deviation is known. It assumes the data follow a normal distribution.\n",
    "\n",
    "  **Example:** You could use a z-test to compare the mean height of male and female students in a large university (e.g., a sample of 100 male students and 100 female students)."
   ]
  },
  {
   "cell_type": "markdown",
   "id": "2c492e42-fdce-498a-aa16-27ab750cffed",
   "metadata": {},
   "source": [
    "**Q2: Differentiate between one-tailed and two-tailed tests.**\n",
    "\n",
    "- **One-tailed test:** A hypothesis test where the critical region (rejection region) is on only one side of the sampling distribution. It tests if a parameter is significantly greater than or less than a specified value.\n",
    "\n",
    "  **Example:** Testing if a new drug increases reaction time compared to a control (one-tailed: greater than).\n",
    "\n",
    "- **Two-tailed test:** A hypothesis test where the critical region is on both sides of the sampling distribution. It tests if a parameter is significantly different from a specified value, without specifying in which direction.\n",
    "\n",
    "  **Example:** Testing if a new teaching method changes student performance (two-tailed: different from)."
   ]
  },
  {
   "cell_type": "markdown",
   "id": "1e94dbd7-f1db-41d5-8644-e9ef3ac97b0e",
   "metadata": {},
   "source": [
    "**Q3: Explain the concept of Type 1 and Type 2 errors in hypothesis testing. Provide an example scenario for each type of error.**\n",
    "\n",
    "- **Type 1 error (α):** Rejecting the null hypothesis when it is actually true. It represents a false positive.\n",
    "\n",
    "  **Example:** Concluding a new drug is effective (rejecting null) when it actually has no effect.\n",
    "\n",
    "- **Type 2 error (β):** Failing to reject the null hypothesis when it is actually false. It represents a false negative.\n",
    "\n",
    "  **Example:** Concluding a new drug has no effect (failing to reject null) when it actually is effective."
   ]
  },
  {
   "cell_type": "markdown",
   "id": "8a185929-abc1-45d0-aa16-727b36f57b5b",
   "metadata": {},
   "source": [
    "**Q4: Explain Bayes's theorem with an example.**\n",
    "\n",
    "Bayes's theorem describes the probability of an event based on prior knowledge of conditions related to the event.\n",
    "\n",
    "- **Formula:** \\( P(A|B) = \\frac{P(B|A) \\cdot P(A)}{P(B)} \\)\n",
    "\n",
    "  - \\( P(A|B) \\): Probability of event A given that B is true.\n",
    "  - \\( P(B|A) \\): Probability of event B given that A is true.\n",
    "  - \\( P(A) \\) and \\( P(B) \\): Marginal probabilities of A and B.\n",
    "\n",
    "**Example:**\n",
    "  \n",
    "  Suppose a test for a rare disease is 99% accurate (positive test result given disease is present) and the disease prevalence is 0.1%. What is the probability that a person has the disease if they test positive?\n",
    "\n",
    "  - \\( P(Disease) = 0.001 \\)\n",
    "  - \\( P(Positive|Disease) = 0.99 \\)\n",
    "  - \\( P(Positive|\\neg Disease) = 0.01 \\)\n",
    "  \n",
    "  Calculate \\( P(Disease|Positive) \\):\n",
    "\n",
    "  \\( P(Positive) = P(Positive|Disease) \\cdot P(Disease) + P(Positive|\\neg Disease) \\cdot P(\\neg Disease) \\)\n",
    "\n",
    "  \\( P(Positive) = 0.99 \\cdot 0.001 + 0.01 \\cdot 0.999 = 0.01089 \\)\n",
    "\n",
    "  \\( P(Disease|Positive) = \\frac{P(Positive|Disease) \\cdot P(Disease)}{P(Positive)} = \\frac{0.99 \\cdot 0.001}{0.01089} \\approx 0.0907 \\)\n",
    "\n",
    "  So, the probability of having the disease given a positive test result is approximately 9.07%."
   ]
  },
  {
   "cell_type": "markdown",
   "id": "7efe98ef-d4fc-4078-ad62-0d4bb24ec1ef",
   "metadata": {},
   "source": [
    "**Q5: What is a confidence interval? How to calculate the confidence interval, explain with an example.**\n",
    "\n",
    "- **Confidence interval:** A range of values calculated from sample data that is likely to contain the true population parameter with a specified level of confidence (e.g., 95%, 99%).\n",
    "\n",
    "- **Calculation:** For a population mean \\( \\mu \\) with known population standard deviation \\( \\sigma \\):\n",
    "\n",
    "  \\( \\text{Confidence Interval} = \\bar{x} \\pm Z \\cdot \\frac{\\sigma}{\\sqrt{n}} \\)\n",
    "\n",
    "  Where \\( \\bar{x} \\) is the sample mean, \\( Z \\) is the critical value from the standard normal distribution corresponding to the desired confidence level, \\( \\sigma \\) is the population standard deviation, and \\( n \\) is the sample size.\n",
    "\n",
    "**Example:**\n",
    "\n",
    "  Calculate the 95% confidence interval for a sample with mean \\( \\bar{x} = 50 \\) and standard deviation \\( \\sigma = 5 \\), and sample size \\( n = 100 \\).\n",
    "\n",
    "  - Critical value \\( Z \\) for 95% confidence is approximately 1.96 (from standard normal distribution).\n",
    "\n",
    "  \\( \\text{Confidence Interval} = 50 \\pm 1.96 \\cdot \\frac{5}{\\sqrt{100}} \\)\n",
    "\n",
    "  \\( \\text{Confidence Interval} = 50 \\pm 1.96 \\cdot 0.5 \\)\n",
    "\n",
    "  \\( \\text{Confidence Interval} = 50 \\pm 0.98 \\)\n",
    "\n",
    "  \\( \\text{Confidence Interval} = (49.02, 50.98) \\)\n",
    "\n",
    "  Interpretation: We are 95% confident that the true population mean lies between 49.02 and 50.98."
   ]
  },
  {
   "cell_type": "markdown",
   "id": "0f597782-08cc-40f0-a16f-87e509103f0c",
   "metadata": {},
   "source": [
    "**Q6: Use Bayes' Theorem to calculate the probability of an event occurring given prior knowledge of the event's probability and new evidence. Provide a sample problem and solution.**\n",
    "\n",
    "Let's use a classic example involving a diagnostic test:\n",
    "\n",
    "- **Problem:** Suppose a diagnostic test is 99% accurate for detecting a disease when it is present (sensitivity), and it correctly identifies absence of disease 90% of the time (specificity). The disease prevalence in the population is 0.5%. If a person tests positive, what is the probability that they actually have the disease?\n",
    "\n",
    "- **Given:**\n",
    "  - Disease prevalence (\\( P(Disease) \\)) = 0.005 (0.5%)\n",
    "  - Sensitivity (\\( P(Positive|Disease) \\)) = 0.99 (99% accurate for positive tests)\n",
    "  - Specificity (\\( P(Negative|\\neg Disease) \\)) = 0.90 (90% accurate for negative tests)\n",
    "  \n",
    "- **Calculate:**\n",
    "  - \\( P(Positive) \\): Probability of testing positive (marginal probability).\n",
    "\n",
    "    \\( P(Positive) = P(Positive|Disease) \\cdot P(Disease) + P(Positive|\\neg Disease) \\cdot P(\\neg Disease) \\)\n",
    "    \n",
    "    \\( P(Positive) = 0.99 \\cdot 0.005 + (1 - 0.90) \\cdot (1 - 0.005) \\)\n",
    "    \n",
    "    \\( P(Positive) = 0.9945 \\)\n",
    "\n",
    "  - \\( P(Disease|Positive) \\): Probability of having the disease given a positive test result.\n",
    "\n",
    "    \\( P(Disease|Positive) = \\frac{P(Positive|Disease) \\cdot P(Disease)}{P(Positive)} \\)\n",
    "    \n",
    "    \\( P(Disease|Positive) = \\frac{0.99 \\cdot 0.005}{0.9945} \\)\n",
    "    \n",
    "    \\( P(Disease|Positive) \\approx 0.005 \\)\n",
    "\n",
    "  So, the probability that a person has the disease given a positive test result is approximately 0.5%."
   ]
  },
  {
   "cell_type": "markdown",
   "id": "1b3754fb-e163-412a-9a2c-540212b11b27",
   "metadata": {},
   "source": [
    "**Q7: Calculate the 95% confidence interval for a sample of data with a mean of 50 and a standard deviation of 5. Interpret the results.**\n",
    "\n",
    "- **Calculation:**\n",
    "\n",
    "  \\( \\text{Confidence Interval} = \\bar{x} \\pm Z \\cdot \\frac{s}{\\sqrt{n}} \\)\n",
    "\n",
    "  Where \\( \\bar{x} = 50 \\), \\( s = 5 \\), \\( n \\) (sample size) is not given but assumed to be sufficient.\n",
    "\n",
    "  - Critical value \\( Z \\) for 95% confidence is approximately 1.96.\n",
    "\n",
    "  \\( \\text{Confidence Interval} = 50 \\pm 1.96 \\cdot \\frac{5}{\\sqrt{n}} \\)\n",
    "\n",
    "  Without \\( n \\), we can only provide a general interval: \\( (50 - 1.96 \\cdot \\frac{5}{\\sqrt{n}}, 50 + 1.96 \\cdot \\frac{5}{\\sqrt{n}}) \\)\n",
    "\n",
    "  Interpretation: We are 95% confident that the true population mean lies within this interval."
   ]
  },
  {
   "cell_type": "markdown",
   "id": "ebf00217-d796-4cbd-8364-f4a287298eeb",
   "metadata": {},
   "source": [
    "**Q8: What is the margin of error in a confidence interval? How does sample size affect the margin of error? Provide an example of a scenario where a larger sample size would result in a smaller margin of error.**\n",
    "\n",
    "- **Margin of Error:** The margin of error (MoE) is the amount added to and subtracted from the sample estimate to achieve the desired confidence level. It depends on the critical value (from the z or t distribution), standard deviation, and sample size.\n",
    "\n",
    "- **Effect of Sample Size:** A larger sample size decreases\n",
    "\n",
    " the standard error (SE), which in turn reduces the margin of error. This is because larger samples provide more precise estimates of the population parameter.\n",
    "\n",
    "  **Example:**\n",
    "  \n",
    "  Suppose you want to estimate the average height of students in a school with 95% confidence. A smaller sample might have a MoE of ±3 inches, while a larger sample might reduce it to ±1 inch due to increased precision in estimating the population mean."
   ]
  },
  {
   "cell_type": "markdown",
   "id": "c7872e06-62d5-4c0f-b2d5-acdb2fcb84a3",
   "metadata": {},
   "source": [
    "**Q9: Calculate the z-score for a data point with a value of 75, a population mean of 70, and a population standard deviation of 5. Interpret the results.**\n",
    "\n",
    "- **Calculation:**\n",
    "\n",
    "  \\( z = \\frac{x - \\mu}{\\sigma} = \\frac{75 - 70}{5} = 1 \\)\n",
    "\n",
    "  The z-score is 1.\n",
    "\n",
    "  Interpretation: The data point of 75 is 1 standard deviation above the mean of 70."
   ]
  },
  {
   "cell_type": "markdown",
   "id": "a50312c8-efb3-4633-92b3-c9423571069c",
   "metadata": {},
   "source": [
    "**Q10: In a study of the effectiveness of a new weight loss drug, a sample of 50 participants lost an average of 6 pounds with a standard deviation of 2.5 pounds. Conduct a hypothesis test to determine if the drug is significantly effective at a 95% confidence level using a t-test.**"
   ]
  },
  {
   "cell_type": "code",
   "execution_count": 2,
   "id": "264a9799-7bcf-4cfc-a657-657faa3584a9",
   "metadata": {},
   "outputs": [
    {
     "name": "stdout",
     "output_type": "stream",
     "text": [
      "Reject null hypothesis: The drug is significantly effective.\n"
     ]
    }
   ],
   "source": [
    "import numpy as np\n",
    "from scipy import stats\n",
    "\n",
    "# Given data\n",
    "sample_mean = 6\n",
    "sample_std_dev = 2.5\n",
    "sample_size = 50\n",
    "population_mean = 0  # Null hypothesis: drug has no effect\n",
    "confidence_level = 0.95\n",
    "\n",
    "# Calculate t-statistic\n",
    "t_statistic = (sample_mean - population_mean) / (sample_std_dev / np.sqrt(sample_size))\n",
    "\n",
    "# Calculate degrees of freedom\n",
    "degrees_of_freedom = sample_size - 1\n",
    "\n",
    "# Calculate critical value (two-tailed test)\n",
    "critical_value = stats.t.ppf(1 - (1 - confidence_level) / 2, degrees_of_freedom)\n",
    "\n",
    "# Compare t-statistic with critical value\n",
    "if np.abs(t_statistic) > critical_value:\n",
    "    print(\"Reject null hypothesis: The drug is significantly effective.\")\n",
    "else:\n",
    "    print(\"Fail to reject null hypothesis: There is no sufficient evidence to conclude effectiveness.\")\n"
   ]
  },
  {
   "cell_type": "markdown",
   "id": "83c54edb-f805-407d-8d2e-e136eb55f4ab",
   "metadata": {},
   "source": [
    "**Q11: In a survey of 500 people, 65% reported being satisfied with their current job. Calculate the 95% confidence interval for the true proportion of people who are satisfied with their job.**"
   ]
  },
  {
   "cell_type": "code",
   "execution_count": 3,
   "id": "a03656a0-1555-4935-abc9-993cd3ec233a",
   "metadata": {},
   "outputs": [
    {
     "name": "stdout",
     "output_type": "stream",
     "text": [
      "Confidence interval: (0.6082, 0.6918)\n"
     ]
    }
   ],
   "source": [
    "import numpy as np\n",
    "from scipy import stats\n",
    "\n",
    "# Given data\n",
    "sample_proportion = 0.65\n",
    "sample_size = 500\n",
    "confidence_level = 0.95\n",
    "\n",
    "# Calculate standard error\n",
    "std_error = np.sqrt((sample_proportion * (1 - sample_proportion)) / sample_size)\n",
    "\n",
    "# Calculate margin of error\n",
    "margin_of_error = stats.norm.ppf((1 + confidence_level) / 2) * std_error\n",
    "\n",
    "# Calculate confidence interval\n",
    "lower_bound = sample_proportion - margin_of_error\n",
    "upper_bound = sample_proportion + margin_of_error\n",
    "\n",
    "print(f\"Confidence interval: ({lower_bound:.4f}, {upper_bound:.4f})\")\n"
   ]
  },
  {
   "cell_type": "markdown",
   "id": "d133179c-8e7d-4052-96d5-c2b5c8fbba5c",
   "metadata": {},
   "source": [
    "**Q12: A researcher is testing the effectiveness of two different teaching methods on student performance. Sample A has a mean score of 85 with a standard deviation of 6, while sample B has a mean score of 82 with a standard deviation of 5. Conduct a hypothesis test to determine if the two teaching methods have a significant difference in student performance using a t-test with a significance level of 0.01.**"
   ]
  },
  {
   "cell_type": "code",
   "execution_count": 4,
   "id": "3b809ac9-4b8f-437a-ab60-56c244096287",
   "metadata": {},
   "outputs": [
    {
     "name": "stdout",
     "output_type": "stream",
     "text": [
      "Fail to reject null hypothesis: There is no sufficient evidence of a significant difference.\n"
     ]
    }
   ],
   "source": [
    "import numpy as np\n",
    "from scipy import stats\n",
    "\n",
    "# Given data\n",
    "mean_A = 85\n",
    "std_dev_A = 6\n",
    "n_A = 30  # Sample size for A\n",
    "mean_B = 82\n",
    "std_dev_B = 5\n",
    "n_B = 40  # Sample size for B\n",
    "alpha = 0.01\n",
    "\n",
    "# Calculate pooled standard deviation (assuming equal variances)\n",
    "pooled_std_dev = np.sqrt(((n_A - 1) * std_dev_A**2 + (n_B - 1) * std_dev_B**2) / (n_A + n_B - 2))\n",
    "\n",
    "# Calculate t-statistic\n",
    "t_statistic = (mean_A - mean_B) / (pooled_std_dev * np.sqrt(1/n_A + 1/n_B))\n",
    "\n",
    "# Calculate degrees of freedom\n",
    "degrees_of_freedom = n_A + n_B - 2\n",
    "\n",
    "# Calculate critical value (two-tailed test)\n",
    "critical_value = stats.t.ppf(1 - alpha / 2, degrees_of_freedom)\n",
    "\n",
    "# Compare t-statistic with critical value\n",
    "if np.abs(t_statistic) > critical_value:\n",
    "    print(\"Reject null hypothesis: There is a significant difference in performance between the teaching methods.\")\n",
    "else:\n",
    "    print(\"Fail to reject null hypothesis: There is no sufficient evidence of a significant difference.\")\n"
   ]
  },
  {
   "cell_type": "markdown",
   "id": "4752db8a-3771-4d6d-9465-3ba289f51b3c",
   "metadata": {},
   "source": [
    "**Q13: A population has a mean of 60 and a standard deviation of 8. A sample of 50 observations has a mean of 65. Calculate the 90% confidence interval for the true population mean.**"
   ]
  },
  {
   "cell_type": "code",
   "execution_count": 5,
   "id": "9191d8f9-f97c-4191-a8a8-65e84d121da2",
   "metadata": {},
   "outputs": [
    {
     "name": "stdout",
     "output_type": "stream",
     "text": [
      "Confidence interval: (63.14, 66.86)\n"
     ]
    }
   ],
   "source": [
    "import numpy as np\n",
    "from scipy import stats\n",
    "\n",
    "# Given data\n",
    "population_mean = 60\n",
    "population_std_dev = 8\n",
    "sample_mean = 65\n",
    "sample_size = 50\n",
    "confidence_level = 0.90\n",
    "\n",
    "# Calculate standard error\n",
    "std_error = population_std_dev / np.sqrt(sample_size)\n",
    "\n",
    "# Calculate margin of error\n",
    "margin_of_error = stats.norm.ppf((1 + confidence_level) / 2) * std_error\n",
    "\n",
    "# Calculate confidence interval\n",
    "lower_bound = sample_mean - margin_of_error\n",
    "upper_bound = sample_mean + margin_of_error\n",
    "\n",
    "print(f\"Confidence interval: ({lower_bound:.2f}, {upper_bound:.2f})\")\n"
   ]
  },
  {
   "cell_type": "markdown",
   "id": "e88b8a8b-a651-4e75-bc37-6b5abb70831a",
   "metadata": {},
   "source": [
    "**Q14: In a study of the effects of caffeine on reaction time, a sample of 30 participants had an average reaction time of 0.25 seconds with a standard deviation of 0.05 seconds. Conduct a hypothesis test to determine if caffeine has a significant effect on reaction time at a 90% confidence level using a t-test.**"
   ]
  },
  {
   "cell_type": "code",
   "execution_count": 1,
   "id": "d308d858-ac6f-4dbb-9e9f-a7387e8a36a7",
   "metadata": {},
   "outputs": [
    {
     "name": "stdout",
     "output_type": "stream",
     "text": [
      "Reject null hypothesis: Caffeine has a significant effect on reaction time.\n"
     ]
    }
   ],
   "source": [
    "\n",
    "import numpy as np\n",
    "from scipy import stats\n",
    "\n",
    "# Given data\n",
    "sample_mean = 0.25\n",
    "sample_std_dev = 0.05\n",
    "sample_size = 30\n",
    "population_mean = 0  # Null hypothesis: no effect of caffeine\n",
    "confidence_level = 0.90\n",
    "\n",
    "# Calculate t-statistic\n",
    "t_statistic = (sample_mean - population_mean) / (sample_std_dev / np.sqrt(sample_size))\n",
    "\n",
    "# Calculate degrees of freedom\n",
    "degrees_of_freedom = sample_size - 1\n",
    "\n",
    "# Calculate critical value (two-tailed test)\n",
    "critical_value = stats.t.ppf(1 - (1 - confidence_level) / 2, degrees_of_freedom)\n",
    "\n",
    "# Compare t-statistic with critical value\n",
    "if np.abs(t_statistic) > critical_value:\n",
    "    print(\"Reject null hypothesis: Caffeine has a significant effect on reaction time.\")\n",
    "else:\n",
    "    print(\"Fail to reject null hypothesis: There is no sufficient evidence to conclude caffeine's effect.\")\n"
   ]
  },
  {
   "cell_type": "markdown",
   "id": "94985c95-3f36-4297-9cef-67da3097d696",
   "metadata": {},
   "source": []
  }
 ],
 "metadata": {
  "kernelspec": {
   "display_name": "Python 3 (ipykernel)",
   "language": "python",
   "name": "python3"
  },
  "language_info": {
   "codemirror_mode": {
    "name": "ipython",
    "version": 3
   },
   "file_extension": ".py",
   "mimetype": "text/x-python",
   "name": "python",
   "nbconvert_exporter": "python",
   "pygments_lexer": "ipython3",
   "version": "3.10.8"
  }
 },
 "nbformat": 4,
 "nbformat_minor": 5
}
